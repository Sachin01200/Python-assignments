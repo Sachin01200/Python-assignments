{
 "cells": [
  {
   "cell_type": "markdown",
   "id": "d83f8f3e-ff0a-4bf3-9a66-1b9947f05aa1",
   "metadata": {},
   "source": [
    "1. how do you concatenate two strings in python?"
   ]
  },
  {
   "cell_type": "code",
   "execution_count": 17,
   "id": "3f58c3b1-11b5-4af5-af26-873548a3e17e",
   "metadata": {},
   "outputs": [
    {
     "name": "stdout",
     "output_type": "stream",
     "text": [
      "sachin sautiyal\n"
     ]
    }
   ],
   "source": [
    "name = \"sachin\"\n",
    "surname = \"sautiyal\"\n",
    "print(name,surname)"
   ]
  },
  {
   "cell_type": "markdown",
   "id": "f0794525-61ae-453c-8713-5f7aacb7d004",
   "metadata": {},
   "source": [
    "2. what is the difference between the + operator and the join() method for concatenating strings? "
   ]
  },
  {
   "cell_type": "code",
   "execution_count": 41,
   "id": "ed26d3b8-d85a-4b50-abac-cd4afff492a5",
   "metadata": {},
   "outputs": [
    {
     "name": "stdout",
     "output_type": "stream",
     "text": [
      "sachin sautiyal\n"
     ]
    }
   ],
   "source": [
    "##operator\n",
    "\n",
    "string = \"sachin \"\n",
    "string1 = \"sautiyal\"\n",
    "name = string + string1\n",
    "print(name)"
   ]
  },
  {
   "cell_type": "code",
   "execution_count": 55,
   "id": "176433f4-903b-4613-b7e6-f815af78dc80",
   "metadata": {},
   "outputs": [
    {
     "name": "stdout",
     "output_type": "stream",
     "text": [
      "sachin sautiyal\n"
     ]
    }
   ],
   "source": [
    "## join() method\n",
    "\n",
    "name = \"sachin\"\n",
    "surname = \"sautiyal\"\n",
    "full_name = (\" \".join([name,surname]))\n",
    "print(full_name)"
   ]
  },
  {
   "cell_type": "markdown",
   "id": "fa14be03-6b81-44ae-bef9-3214ba653b9b",
   "metadata": {},
   "source": [
    "3. how do you access individual characters in string?"
   ]
  },
  {
   "cell_type": "code",
   "execution_count": 5,
   "id": "451ea2b2-92b6-400a-9537-b649badffa25",
   "metadata": {},
   "outputs": [
    {
     "name": "stdout",
     "output_type": "stream",
     "text": [
      "j\n"
     ]
    }
   ],
   "source": [
    "string = (\"python java javascript\")\n",
    "print(string[7])"
   ]
  },
  {
   "cell_type": "markdown",
   "id": "ec9faa99-ee52-4d23-9fc8-9e619267fefd",
   "metadata": {},
   "source": [
    "4. what method is used to find the length of a string in python?"
   ]
  },
  {
   "cell_type": "code",
   "execution_count": 70,
   "id": "2e286665-d7d3-45d2-aae7-622a52b7da4c",
   "metadata": {},
   "outputs": [
    {
     "name": "stdout",
     "output_type": "stream",
     "text": [
      "35\n"
     ]
    }
   ],
   "source": [
    "string = (\"my name is sachin i am 22 years old\")\n",
    "print(len(string))"
   ]
  },
  {
   "cell_type": "markdown",
   "id": "9a0453c0-f84a-4ab5-9625-f98d81976f58",
   "metadata": {},
   "source": [
    "5. how can you convert a string to uppercase in python?"
   ]
  },
  {
   "cell_type": "code",
   "execution_count": 100,
   "id": "9f27b713-efa5-43b8-828f-a9026a7ab3c3",
   "metadata": {},
   "outputs": [
    {
     "name": "stdout",
     "output_type": "stream",
     "text": [
      "SAUTIYAL\n"
     ]
    }
   ],
   "source": [
    "string = \"sAutiyal\".upper()\n",
    "print(string)"
   ]
  },
  {
   "cell_type": "markdown",
   "id": "2be79f3d-a91a-45e5-a76e-bd84dc2eb311",
   "metadata": {},
   "source": [
    "6. how can you convert a string  to lowercase in python?"
   ]
  },
  {
   "cell_type": "code",
   "execution_count": 103,
   "id": "8082c545-19a7-4703-bf04-c8a694edde35",
   "metadata": {},
   "outputs": [
    {
     "name": "stdout",
     "output_type": "stream",
     "text": [
      "sachin\n"
     ]
    }
   ],
   "source": [
    "string = \"SACHIN\".lower()\n",
    "print(string)"
   ]
  },
  {
   "cell_type": "markdown",
   "id": "fb96018a-cce7-4bb3-98b0-0548d8115dd9",
   "metadata": {},
   "source": [
    "7. what method is used to replace substrings within a string?"
   ]
  },
  {
   "cell_type": "code",
   "execution_count": 112,
   "id": "0fb796f5-b13b-40c3-b462-1a33f685b204",
   "metadata": {},
   "outputs": [
    {
     "name": "stdout",
     "output_type": "stream",
     "text": [
      "this is java\n"
     ]
    }
   ],
   "source": [
    "string = (\"this is python\")\n",
    "replace = (string).replace(\"python\",\"java\")\n",
    "print(replace)"
   ]
  },
  {
   "cell_type": "markdown",
   "id": "3dc2c180-d1a7-4007-bab1-90fa56bc5af4",
   "metadata": {},
   "source": [
    "8. how can you split a string into a list of substrings based on a delimeter?"
   ]
  },
  {
   "cell_type": "code",
   "execution_count": 23,
   "id": "bdddbadf-47bf-4252-9cb6-34b517798d1e",
   "metadata": {},
   "outputs": [
    {
     "name": "stdout",
     "output_type": "stream",
     "text": [
      "['sachin', '9891788075']\n"
     ]
    }
   ],
   "source": [
    "string = (\"sachin,9891788075\").split(\",\")\n",
    "print(string)"
   ]
  },
  {
   "cell_type": "markdown",
   "id": "3adb419b-16ce-4e50-add2-487a0e5ebbd8",
   "metadata": {},
   "source": [
    "9. how do you check if a string starts with a particular substrings?"
   ]
  },
  {
   "cell_type": "code",
   "execution_count": 156,
   "id": "91e5252f-e6dc-49c5-9d92-096b59b2fb22",
   "metadata": {},
   "outputs": [
    {
     "name": "stdout",
     "output_type": "stream",
     "text": [
      "False\n"
     ]
    }
   ],
   "source": [
    "string = (\"python\")\n",
    "x = (string).startswith(\"k\")\n",
    "print(x)                    "
   ]
  },
  {
   "cell_type": "code",
   "execution_count": 25,
   "id": "2f9d18c4-1d53-409f-80b9-7de64af3d2a1",
   "metadata": {},
   "outputs": [
    {
     "name": "stdout",
     "output_type": "stream",
     "text": [
      "True\n"
     ]
    }
   ],
   "source": [
    "string = (\"python\")\n",
    "x = (string).startswith(\"p\")\n",
    "print(x)  "
   ]
  },
  {
   "cell_type": "markdown",
   "id": "8d52257a-0876-4c9c-b5f0-fe33155fa4ea",
   "metadata": {},
   "source": [
    "10. how do you check if a string ends with a particular substrings?"
   ]
  },
  {
   "cell_type": "code",
   "execution_count": 3,
   "id": "5c6d59a5-801a-408b-82f2-c34a88979673",
   "metadata": {},
   "outputs": [
    {
     "name": "stdout",
     "output_type": "stream",
     "text": [
      "True\n"
     ]
    }
   ],
   "source": [
    "string = (\"my name is sachin i am student of ducat\").endswith(\"t\")\n",
    "print(string)"
   ]
  },
  {
   "cell_type": "markdown",
   "id": "35478628-e061-4b7e-b63f-e3da626bcc30",
   "metadata": {},
   "source": [
    "11. how can you remove leading and trailing whitespace from a string?"
   ]
  },
  {
   "cell_type": "code",
   "execution_count": 36,
   "id": "bebe37d8-4515-49a7-b7f3-db40868559ee",
   "metadata": {},
   "outputs": [
    {
     "name": "stdout",
     "output_type": "stream",
     "text": [
      "my name is sachin\n"
     ]
    }
   ],
   "source": [
    "string = \"         sachin             \"\n",
    "x = string.strip()\n",
    "print(\"my name is\",x)"
   ]
  },
  {
   "cell_type": "markdown",
   "id": "131f41b1-eaf3-4d35-895a-799e4ebfd5d1",
   "metadata": {},
   "source": [
    "12. what method is used to find the index of the first occurrence of a substring within a string?"
   ]
  },
  {
   "cell_type": "code",
   "execution_count": 41,
   "id": "170ecab7-42ab-48a7-a560-1f34a4f8a5e5",
   "metadata": {},
   "outputs": [
    {
     "name": "stdout",
     "output_type": "stream",
     "text": [
      "8\n"
     ]
    }
   ],
   "source": [
    "string = \"this is python\".index(\"python\")\n",
    "print(string)"
   ]
  },
  {
   "cell_type": "markdown",
   "id": "f78b9801-3ec8-4d62-9c5c-45f05d9a5369",
   "metadata": {},
   "source": [
    "13. how can you count the number of occurrence of a substrings within a string?"
   ]
  },
  {
   "cell_type": "code",
   "execution_count": 44,
   "id": "78ef01ce-3494-4d03-bae0-1c0d25cb52ed",
   "metadata": {},
   "outputs": [
    {
     "name": "stdout",
     "output_type": "stream",
     "text": [
      "1\n"
     ]
    }
   ],
   "source": [
    "string =  (\"my name is sachin i am student of ducat\").count(\"of\")\n",
    "print(string)"
   ]
  },
  {
   "cell_type": "markdown",
   "id": "b70e21a5-06c3-4d8a-95cb-25228702c07e",
   "metadata": {},
   "source": [
    "14. how do you check if a string contains only alphabetic characters?"
   ]
  },
  {
   "cell_type": "code",
   "execution_count": 51,
   "id": "4254c196-2f84-44ec-8416-0408d88e819f",
   "metadata": {},
   "outputs": [
    {
     "name": "stdout",
     "output_type": "stream",
     "text": [
      "True\n"
     ]
    }
   ],
   "source": [
    "string = (\"python\").isalpha()\n",
    "print(string)"
   ]
  },
  {
   "cell_type": "code",
   "execution_count": 53,
   "id": "63ae1ae4-8808-409f-bf7b-691ab81ee35f",
   "metadata": {},
   "outputs": [
    {
     "name": "stdout",
     "output_type": "stream",
     "text": [
      "False\n"
     ]
    }
   ],
   "source": [
    "string = (\"sachin2001\").isalpha()\n",
    "print(string)"
   ]
  },
  {
   "cell_type": "markdown",
   "id": "ab7178c9-dd25-4703-b5ad-deadf3b6c3e0",
   "metadata": {},
   "source": [
    "15. how do check if a string contains only numeric characters?"
   ]
  },
  {
   "cell_type": "code",
   "execution_count": 4,
   "id": "7584dc56-8987-4b69-9fd0-5150c02bd619",
   "metadata": {},
   "outputs": [
    {
     "name": "stdout",
     "output_type": "stream",
     "text": [
      "True\n"
     ]
    }
   ],
   "source": [
    "value = (\"1234\").isdecimal()\n",
    "print(value)"
   ]
  },
  {
   "cell_type": "code",
   "execution_count": 6,
   "id": "83f9c748-9169-452b-b783-34f1665093bb",
   "metadata": {},
   "outputs": [
    {
     "name": "stdout",
     "output_type": "stream",
     "text": [
      "False\n"
     ]
    }
   ],
   "source": [
    "value = (\"python1991\").isdecimal()\n",
    "print(value)"
   ]
  },
  {
   "cell_type": "markdown",
   "id": "59888018-2213-45f7-a67e-16b7b7e689bf",
   "metadata": {},
   "source": [
    "16. how can check if a string is a palindrome?"
   ]
  },
  {
   "cell_type": "code",
   "execution_count": 31,
   "id": "92833d7f-98a4-4c4e-9231-7851b728ab4c",
   "metadata": {},
   "outputs": [
    {
     "name": "stdin",
     "output_type": "stream",
     "text": [
      "enter string mom\n"
     ]
    },
    {
     "name": "stdout",
     "output_type": "stream",
     "text": [
      "palindrome\n"
     ]
    }
   ],
   "source": [
    "string = input(\"enter string\")\n",
    "string1 = (string[-1::-1])\n",
    "if(string==string1):\n",
    "   print(\"palindrome\")\n",
    "else:\n",
    "   print(\"not palindrome\")\n"
   ]
  },
  {
   "cell_type": "code",
   "execution_count": 29,
   "id": "c94db3be-f934-46fb-805f-ff9f700f0a05",
   "metadata": {},
   "outputs": [
    {
     "name": "stdin",
     "output_type": "stream",
     "text": [
      "enter string teacher\n"
     ]
    },
    {
     "name": "stdout",
     "output_type": "stream",
     "text": [
      "not palindrome\n"
     ]
    }
   ],
   "source": [
    "string = input(\"enter string\")\n",
    "string1 = (string[-1::-1])\n",
    "if(string==string1):\n",
    "   print(\"palindrome\")\n",
    "else:\n",
    "   print(\"not palindrome\")\n"
   ]
  },
  {
   "cell_type": "markdown",
   "id": "839a31bd-338f-498e-9e4a-378bef168986",
   "metadata": {},
   "source": [
    "17. how can you reverse a string in python?"
   ]
  },
  {
   "cell_type": "code",
   "execution_count": 64,
   "id": "a67f5541-c9e2-4734-adea-7ba56bb7c510",
   "metadata": {},
   "outputs": [
    {
     "name": "stdout",
     "output_type": "stream",
     "text": [
      "('css', 'java', 'python')\n"
     ]
    }
   ],
   "source": [
    "string = (\"python\",\"java\",\"css\")\n",
    "print(string[::-1])"
   ]
  },
  {
   "cell_type": "markdown",
   "id": "fc62d301-2132-4ac6-b19b-d8055730a92a",
   "metadata": {},
   "source": [
    "18. how do you format a string with placeholder for variables values?"
   ]
  },
  {
   "cell_type": "code",
   "execution_count": 61,
   "id": "d81e4cfd-061d-4f43-95ea-65ca3ec2c9da",
   "metadata": {},
   "outputs": [
    {
     "name": "stdin",
     "output_type": "stream",
     "text": [
      "enter name sachin\n",
      "enter name uttarakhand\n",
      "enter name delhi\n"
     ]
    },
    {
     "name": "stdout",
     "output_type": "stream",
     "text": [
      "my name is sachin and i am basically form uttarakhand but currently staying in uttarakhand\n"
     ]
    }
   ],
   "source": [
    "# My name is__________i am basically from____________ but currently staying in__________.\n",
    "\n",
    "name =  input(\"enter name\")\n",
    "city = input(\"enter name\")\n",
    "city1 = input(\"enter name\")\n",
    "print(\"my name is {} and i am basically form {} but currently staying in {}\".format(name,city,city))"
   ]
  },
  {
   "cell_type": "markdown",
   "id": "369b0d11-e26b-4abb-8ff9-07466dc9d8fd",
   "metadata": {},
   "source": [
    "19. how do you access a substring of a string using slicing?"
   ]
  },
  {
   "cell_type": "code",
   "execution_count": 66,
   "id": "3b9bfb5b-3448-49aa-bfde-d62ebe0c5da3",
   "metadata": {},
   "outputs": [
    {
     "name": "stdout",
     "output_type": "stream",
     "text": [
      "sachin\n"
     ]
    }
   ],
   "source": [
    "string = (\"my name is sachin i am student of ducat\")\n",
    "print(string[11:17:1])"
   ]
  },
  {
   "cell_type": "markdown",
   "id": "18f171ff-636b-464b-ad75-2331f34705da",
   "metadata": {},
   "source": [
    "20. how can you remove specific characters from a string in python?"
   ]
  },
  {
   "cell_type": "code",
   "execution_count": 96,
   "id": "54546c28-fbe2-4e99-bf65-2251e90022af",
   "metadata": {},
   "outputs": [
    {
     "name": "stdout",
     "output_type": "stream",
     "text": [
      "html,java,python,,javascript\n"
     ]
    }
   ],
   "source": [
    "string = (\"html,java,python,css,javascript\")\n",
    "print(string.replace(\"css\",\"\"))"
   ]
  }
 ],
 "metadata": {
  "kernelspec": {
   "display_name": "Python 3 (ipykernel)",
   "language": "python",
   "name": "python3"
  },
  "language_info": {
   "codemirror_mode": {
    "name": "ipython",
    "version": 3
   },
   "file_extension": ".py",
   "mimetype": "text/x-python",
   "name": "python",
   "nbconvert_exporter": "python",
   "pygments_lexer": "ipython3",
   "version": "3.12.4"
  }
 },
 "nbformat": 4,
 "nbformat_minor": 5
}
