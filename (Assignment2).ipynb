{
 "cells": [
  {
   "cell_type": "markdown",
   "id": "e4867f58-0eaf-4086-9be5-0d48017fc372",
   "metadata": {},
   "source": [
    "1.What are the two values of the Boolean data type? How do you write them?"
   ]
  },
  {
   "cell_type": "raw",
   "id": "8ee8b408-9993-4f9f-8cf7-39c5b4d2764a",
   "metadata": {},
   "source": [
    "True\n",
    "False"
   ]
  },
  {
   "cell_type": "code",
   "execution_count": 5,
   "id": "19140dbe-e3ac-42ea-b7d9-f82ecb8fc732",
   "metadata": {},
   "outputs": [
    {
     "name": "stdout",
     "output_type": "stream",
     "text": [
      "False\n",
      "True\n"
     ]
    }
   ],
   "source": [
    "print(100<50)\n",
    "print(100>70)"
   ]
  },
  {
   "cell_type": "markdown",
   "id": "1943b7ec-daf2-46c2-bd70-7598582f6b61",
   "metadata": {},
   "source": [
    "2. What are the three different types of Boolean operators?"
   ]
  },
  {
   "cell_type": "code",
   "execution_count": 30,
   "id": "3df9b809-81bf-43ea-9b9d-b9558b62133f",
   "metadata": {},
   "outputs": [
    {
     "data": {
      "text/plain": [
       "True"
      ]
     },
     "execution_count": 30,
     "metadata": {},
     "output_type": "execute_result"
    }
   ],
   "source": [
    "# and operator\n",
    "\n",
    "10<15 and 15<20"
   ]
  },
  {
   "cell_type": "code",
   "execution_count": 28,
   "id": "a8d82e85-300e-4e8f-b454-ebf1d2e9ad2d",
   "metadata": {},
   "outputs": [
    {
     "data": {
      "text/plain": [
       "True"
      ]
     },
     "execution_count": 28,
     "metadata": {},
     "output_type": "execute_result"
    }
   ],
   "source": [
    "# or operator\n",
    "\n",
    "10>15 or 20<25"
   ]
  },
  {
   "cell_type": "code",
   "execution_count": 48,
   "id": "f46b6574-6abe-446d-a5b2-babdfc42b0e8",
   "metadata": {},
   "outputs": [
    {
     "data": {
      "text/plain": [
       "True"
      ]
     },
     "execution_count": 48,
     "metadata": {},
     "output_type": "execute_result"
    }
   ],
   "source": [
    "# not operator\n",
    "\n",
    "not 30<25"
   ]
  },
  {
   "cell_type": "markdown",
   "id": "2323c786-f4ae-477c-99f4-b932c77aa265",
   "metadata": {},
   "source": [
    "3. Make a list of each Boolean operator's truth tables (i.e. every possible combination of Boolean\n",
    "values for the operator and what it evaluate )."
   ]
  },
  {
   "cell_type": "code",
   "execution_count": 50,
   "id": "586baef5-bc6f-4d81-bfcb-e5dffcd844e7",
   "metadata": {},
   "outputs": [
    {
     "name": "stdout",
     "output_type": "stream",
     "text": [
      "True\n",
      "False\n",
      "False\n",
      "False\n"
     ]
    }
   ],
   "source": [
    "# And operator\n",
    "print(True and True)\n",
    "print(True and False)\n",
    "print(False and True)\n",
    "print(False and False)"
   ]
  },
  {
   "cell_type": "code",
   "execution_count": 54,
   "id": "50b78121-e207-4ba4-a472-4b85ce139cdd",
   "metadata": {},
   "outputs": [
    {
     "name": "stdout",
     "output_type": "stream",
     "text": [
      "True\n",
      "True\n",
      "True\n",
      "False\n"
     ]
    }
   ],
   "source": [
    "# Or operator\n",
    "print(True or True)\n",
    "print(True or False)\n",
    "print(False or True)\n",
    "print(False or False)"
   ]
  },
  {
   "cell_type": "code",
   "execution_count": 68,
   "id": "54e533b4-9ba1-45fc-b464-018042be6adf",
   "metadata": {},
   "outputs": [
    {
     "data": {
      "text/plain": [
       "True"
      ]
     },
     "execution_count": 68,
     "metadata": {},
     "output_type": "execute_result"
    }
   ],
   "source": [
    "# Not Operator\n",
    "not(True is True)\n",
    "\n",
    "not(True is False)\n",
    "\n"
   ]
  },
  {
   "cell_type": "markdown",
   "id": "1092cb37-0221-4fdb-b5da-a414e7fd3378",
   "metadata": {},
   "source": [
    "4. What are the values of the following expressions?\n",
    "(5 > 4) and (3 == 5)\r\n",
    "not (5>; 4)\r\n",
    "(>t; 4) or (3 == 5)\r\n",
    "not (>gt; 4) or (3 == 5))\r\n",
    "(True and True) and (True == False)\r\n",
    "(not False) or (not True)"
   ]
  },
  {
   "cell_type": "code",
   "execution_count": 90,
   "id": "269628ac-862e-4ba1-a64a-15f4f381c4b5",
   "metadata": {},
   "outputs": [
    {
     "name": "stdout",
     "output_type": "stream",
     "text": [
      "False\n",
      "False\n",
      "True\n",
      "False\n",
      "False\n",
      "True\n"
     ]
    }
   ],
   "source": [
    "print((5 > 4) and (3 == 5))\n",
    "print((not (5 > 4)))\n",
    "print((5 > 4) or (3 == 5))\n",
    "print(not ((5 > 4) or (3 == 5)))\n",
    "print((True and True) and (True == False))\n",
    "print((not False) or (not True))"
   ]
  },
  {
   "cell_type": "markdown",
   "id": "ea9187e5-d98d-464f-b924-47e3b7fe00a9",
   "metadata": {},
   "source": [
    "5. What are the six comparison operators?"
   ]
  },
  {
   "cell_type": "code",
   "execution_count": null,
   "id": "f96fb2f2-2825-4275-9882-b8f80c94688d",
   "metadata": {},
   "outputs": [],
   "source": [
    "# == operator\n",
    "# != operator\n",
    "# > operator\n",
    "# < operator\n",
    "# >= operator\n",
    "# <= operator"
   ]
  },
  {
   "cell_type": "markdown",
   "id": "fd32064d-81bc-4df0-97e6-9f44c67389de",
   "metadata": {},
   "source": [
    "6. How do you tell the difference between the equal to and assignment operators?Describe a\n",
    "condition and when you would use one."
   ]
  },
  {
   "cell_type": "code",
   "execution_count": 100,
   "id": "5ad9345d-ca40-493b-be57-fae74be94354",
   "metadata": {},
   "outputs": [
    {
     "name": "stdout",
     "output_type": "stream",
     "text": [
      "True\n",
      "10\n"
     ]
    }
   ],
   "source": [
    "# equal to operator\n",
    "if(3==3):\n",
    "    print(\"True\")\n",
    "else:\n",
    "    print(\"False\")\n",
    "\n",
    "# Assignment operator\n",
    "a = 10\n",
    "print(a)"
   ]
  },
  {
   "cell_type": "markdown",
   "id": "66c6015c-ae25-4047-834b-b89f34d8f1ea",
   "metadata": {},
   "source": [
    "7. Identify the three blocks in this code:\n",
    "spam = 0\r\n",
    "if spam == 10:print('eggs')\n",
    "if spam > 5:\n",
    "print('bacon')\n",
    "else:\n",
    "print('ham')\r\n",
    "prin(';spa';)\r\n",
    "prin'9;sp'9;)am&#39;)"
   ]
  },
  {
   "cell_type": "code",
   "execution_count": 104,
   "id": "7270cf78-e1b7-475e-b302-52fa4a896ed6",
   "metadata": {},
   "outputs": [
    {
     "name": "stdout",
     "output_type": "stream",
     "text": [
      "ham\n",
      "spam\n",
      "spam\n"
     ]
    }
   ],
   "source": [
    "spam = 0\n",
    "if spam == 10:      #block code 1.\n",
    "    print('eggs')\n",
    "elif spam > 5:        #block code 2.\n",
    "    print('bacon')\n",
    "else:              #block code 3.\n",
    "    print('ham')\n",
    "print('spam')\n",
    "print('spam')"
   ]
  },
  {
   "cell_type": "markdown",
   "id": "63ec51a2-4990-44e0-bb25-e73fa1b6696b",
   "metadata": {},
   "source": [
    "8. Write code that prints Hello if 1 is stored in spam, prints Howdy if 2 is stored in spam, and prints\n",
    "Greetings! if anything else is stored in spam."
   ]
  },
  {
   "cell_type": "code",
   "execution_count": 110,
   "id": "2e74a7c3-c3cd-4f19-b08a-8c7a0a18cbb7",
   "metadata": {},
   "outputs": [
    {
     "name": "stdin",
     "output_type": "stream",
     "text": [
      "enter number 2\n"
     ]
    },
    {
     "name": "stdout",
     "output_type": "stream",
     "text": [
      "Howdy\n"
     ]
    }
   ],
   "source": [
    "spam = int(input(\"enter number\"))\n",
    "if(spam==1):\n",
    "    print(\"hello\")\n",
    "elif(spam==2):\n",
    "    print(\"Howdy\")\n",
    "else:\n",
    "    print(\"greetings\")"
   ]
  },
  {
   "cell_type": "markdown",
   "id": "50693c2c-af18-4f0c-859c-abb913d5b3b6",
   "metadata": {},
   "source": [
    "9.If your programme is stuck in an endless loop, what keys you’ll press?"
   ]
  },
  {
   "cell_type": "markdown",
   "id": "1f574535-f5bd-4b73-b066-cdfdfcd8f5e7",
   "metadata": {},
   "source": [
    "if the program is stuck in endless loop then press ctrl+C."
   ]
  },
  {
   "cell_type": "markdown",
   "id": "7e49f91f-e2ae-423e-b59d-d42b4ac992e5",
   "metadata": {},
   "source": [
    "10. How can you tell the difference between break and continue?"
   ]
  },
  {
   "cell_type": "code",
   "execution_count": 27,
   "id": "b1073743-fe2b-4f30-8027-92edfd4f74d7",
   "metadata": {},
   "outputs": [
    {
     "name": "stdout",
     "output_type": "stream",
     "text": [
      "1\n",
      "2\n",
      "breakend\n"
     ]
    }
   ],
   "source": [
    "# break\n",
    "for item in range(1,11):\n",
    "    if(item==3):\n",
    "        break\n",
    "    print(item)\n",
    "print(\"breakend\")"
   ]
  },
  {
   "cell_type": "code",
   "execution_count": 31,
   "id": "0f8b83f8-3260-448c-a684-586bcce95601",
   "metadata": {},
   "outputs": [
    {
     "name": "stdout",
     "output_type": "stream",
     "text": [
      "1\n",
      "2\n",
      "3\n",
      "4\n",
      "5\n",
      "7\n",
      "8\n",
      "9\n",
      "10\n",
      "done\n"
     ]
    }
   ],
   "source": [
    "# Continue\n",
    "for item in range(1,11):\n",
    "    if(item==6):\n",
    "        continue\n",
    "    print(item)\n",
    "print(\"done\")"
   ]
  },
  {
   "cell_type": "markdown",
   "id": "ac336d22-0d52-4e3f-8055-fa352f12ffb2",
   "metadata": {},
   "source": [
    "11. In a for loop, what is the difference between range(10), range(0, 10), and range(0, 10, 1)?"
   ]
  },
  {
   "cell_type": "code",
   "execution_count": 35,
   "id": "feb93155-3d58-4cad-98e1-da32a605de03",
   "metadata": {},
   "outputs": [
    {
     "name": "stdout",
     "output_type": "stream",
     "text": [
      "0\n",
      "1\n",
      "2\n",
      "3\n",
      "4\n",
      "5\n",
      "6\n",
      "7\n",
      "8\n",
      "9\n"
     ]
    }
   ],
   "source": [
    "# It is similar each other.\n",
    "for item in range(10):\n",
    "    print(item)"
   ]
  },
  {
   "cell_type": "code",
   "execution_count": 37,
   "id": "c960605b-823b-44ee-8e45-0143f74aa582",
   "metadata": {},
   "outputs": [
    {
     "name": "stdout",
     "output_type": "stream",
     "text": [
      "0\n",
      "1\n",
      "2\n",
      "3\n",
      "4\n",
      "5\n",
      "6\n",
      "7\n",
      "8\n",
      "9\n"
     ]
    }
   ],
   "source": [
    "for item in range(0,10):\n",
    "    print(item)"
   ]
  },
  {
   "cell_type": "code",
   "execution_count": 39,
   "id": "0624c528-c121-4f2b-9f4f-6e083694bc4a",
   "metadata": {},
   "outputs": [
    {
     "name": "stdout",
     "output_type": "stream",
     "text": [
      "0\n",
      "1\n",
      "2\n",
      "3\n",
      "4\n",
      "5\n",
      "6\n",
      "7\n",
      "8\n",
      "9\n"
     ]
    }
   ],
   "source": [
    "for item in range(0,10)"
   ]
  },
  {
   "cell_type": "markdown",
   "id": "a0e27697-47a4-45f7-8a92-339e8eff8b88",
   "metadata": {},
   "source": [
    "12. Write a short program that prints the numbers 1 to 10 using a for loop. Then write an equivalent\n",
    "program that prints the numbers 1 to 10 using a while loop."
   ]
  },
  {
   "cell_type": "code",
   "execution_count": 41,
   "id": "56b3a411-5cfb-4277-a513-9bf4c7db81a8",
   "metadata": {},
   "outputs": [
    {
     "name": "stdout",
     "output_type": "stream",
     "text": [
      "1\n",
      "2\n",
      "3\n",
      "4\n",
      "5\n",
      "6\n",
      "7\n",
      "8\n",
      "9\n"
     ]
    }
   ],
   "source": [
    "# For loop\n",
    "for item in range(1,10):\n",
    "    print(item)"
   ]
  },
  {
   "cell_type": "code",
   "execution_count": 1,
   "id": "cf4130ae-3fc1-437d-8291-e5b2544817a8",
   "metadata": {},
   "outputs": [
    {
     "name": "stdout",
     "output_type": "stream",
     "text": [
      "1\n",
      "2\n",
      "3\n",
      "4\n",
      "5\n",
      "6\n",
      "7\n",
      "8\n",
      "9\n",
      "10\n"
     ]
    }
   ],
   "source": [
    "# While loop\n",
    "a = 1\n",
    "while (a<=10):\n",
    "    print(a)\n",
    "    a +=1"
   ]
  },
  {
   "cell_type": "markdown",
   "id": "c3c2bf69-beb1-4011-a6f4-ffcdf6b0383f",
   "metadata": {},
   "source": [
    "13. If you had a function named bacon() inside a module named spam, how would you call it after\n",
    "importing spam?"
   ]
  },
  {
   "cell_type": "code",
   "execution_count": null,
   "id": "efc1a6a9-71ef-46d2-b985-a06103440a62",
   "metadata": {},
   "outputs": [],
   "source": [
    "spam.bacon()"
   ]
  }
 ],
 "metadata": {
  "kernelspec": {
   "display_name": "Python 3 (ipykernel)",
   "language": "python",
   "name": "python3"
  },
  "language_info": {
   "codemirror_mode": {
    "name": "ipython",
    "version": 3
   },
   "file_extension": ".py",
   "mimetype": "text/x-python",
   "name": "python",
   "nbconvert_exporter": "python",
   "pygments_lexer": "ipython3",
   "version": "3.12.4"
  }
 },
 "nbformat": 4,
 "nbformat_minor": 5
}
