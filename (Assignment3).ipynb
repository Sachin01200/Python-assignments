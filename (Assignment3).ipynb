{
 "cells": [
  {
   "cell_type": "markdown",
   "id": "18566beb-7d73-47ad-9613-15cdf90606ca",
   "metadata": {},
   "source": [
    "1. Why are functions advantageous to have in your programs?"
   ]
  },
  {
   "cell_type": "markdown",
   "id": "7b7982b8-f88e-4f38-bce5-d687c7f36a95",
   "metadata": {},
   "source": [
    "Answer : Function reduce the need for dulpicate code. This makes programs shorter, easier to read, and easier to update. and it is also time saving."
   ]
  },
  {
   "cell_type": "markdown",
   "id": "d94e206f-3ba3-471e-b62d-82e484443146",
   "metadata": {},
   "source": [
    "2. When does the code in a function run: when it's specified or when it's called?"
   ]
  },
  {
   "cell_type": "markdown",
   "id": "58369a8c-6e25-4a09-93aa-9bdbbfb64d60",
   "metadata": {},
   "source": [
    "Answer : The code in a function run when it's called."
   ]
  },
  {
   "cell_type": "markdown",
   "id": "00f775f4-0126-489d-96fc-d814338314dc",
   "metadata": {},
   "source": [
    "3. What statement creates a function?"
   ]
  },
  {
   "cell_type": "markdown",
   "id": "9edeedb9-7558-4114-9fe1-2b68c866aa81",
   "metadata": {},
   "source": [
    "Answer : def statement create function."
   ]
  },
  {
   "cell_type": "markdown",
   "id": "227b49db-bc22-4050-9986-0a95158aca25",
   "metadata": {},
   "source": [
    "4. What is the difference between a function and a function call?"
   ]
  },
  {
   "cell_type": "markdown",
   "id": "177c60ba-804d-423b-91a5-8ffab3055834",
   "metadata": {},
   "source": [
    "Answer : A function is a block of code that performs a specific task, while a function call is an expression that calls a functions and executes the \n",
    "         code in the  function."
   ]
  },
  {
   "cell_type": "markdown",
   "id": "cfd03b4a-b016-4575-ae85-da23f507b12a",
   "metadata": {},
   "source": [
    "5. How many global scopes are there in a Python program? How many local scopes?"
   ]
  },
  {
   "cell_type": "markdown",
   "id": "380a085c-82df-4ed1-b15d-087b6dae060f",
   "metadata": {},
   "source": [
    "Answer : Global scopes : Only one \n",
    "         Local scope :It is created whenever a function is called."
   ]
  },
  {
   "cell_type": "markdown",
   "id": "e2785a6e-8e5c-4c5d-afcd-959cd9a44922",
   "metadata": {},
   "source": [
    "6. What happens to variables in a local scope when the function call returns?"
   ]
  },
  {
   "cell_type": "markdown",
   "id": "4caf9b6b-eb07-45cc-90c8-ba3163311c5a",
   "metadata": {},
   "source": [
    "Answer : When a fuction returns,the local scope is variable is destroyed."
   ]
  },
  {
   "cell_type": "markdown",
   "id": "bd7b904a-c188-443a-a5aa-a8024e7e25ec",
   "metadata": {},
   "source": [
    "7. What is the concept of a return value? Is it possible to have a return value in an expression?"
   ]
  },
  {
   "cell_type": "markdown",
   "id": "fb5f40f5-c8d1-4c81-984f-cc106b8687c2",
   "metadata": {},
   "source": [
    "Answer : - It is used to end the execution of the function call.\n",
    "         - Yes, it is possible to evaluate expressions using return statement. "
   ]
  },
  {
   "cell_type": "markdown",
   "id": "8babb1f2-e847-47e8-b24e-8cde7ab8103a",
   "metadata": {},
   "source": [
    "8. If a function does not have a return statement, what is the return value of a call to that function?"
   ]
  },
  {
   "cell_type": "markdown",
   "id": "6887b047-64ed-4d4f-8f04-b23340b4db74",
   "metadata": {},
   "source": [
    "Answer : If a function does not have a return statement, the value return is None."
   ]
  },
  {
   "cell_type": "markdown",
   "id": "1d6a8048-c535-408a-b872-3be1a3ab61f3",
   "metadata": {},
   "source": [
    "9. How do you make a function variable refer to the global variable?"
   ]
  },
  {
   "cell_type": "markdown",
   "id": "275952c4-abcd-4673-8b1e-7bb4d372fbf5",
   "metadata": {},
   "source": [
    "Answer : - A global statement will force a variable in a function to refer to the global variable.\n",
    "         - If you want to refer to a global variable in a function, you can use the global keyword to declare which vairables are global."
   ]
  },
  {
   "cell_type": "markdown",
   "id": "8c32d538-f913-4529-b209-9b7132c916a9",
   "metadata": {},
   "source": [
    "10. What is the data type of None?"
   ]
  },
  {
   "cell_type": "markdown",
   "id": "a9056233-3eaa-48b5-96f6-98e2340bd1b3",
   "metadata": {},
   "source": [
    "Answer : None is a data type of its own (Nonetype)"
   ]
  },
  {
   "cell_type": "code",
   "execution_count": 1,
   "id": "080a858a-1fa2-4b2c-aaa2-b31066e480f5",
   "metadata": {},
   "outputs": [
    {
     "name": "stdout",
     "output_type": "stream",
     "text": [
      "<class 'NoneType'>\n"
     ]
    }
   ],
   "source": [
    "a = None\n",
    "print(type(a))"
   ]
  },
  {
   "cell_type": "markdown",
   "id": "99e43b05-a55f-4c14-9474-f24675ba804c",
   "metadata": {},
   "source": [
    "11. What does the sentence import areallyourpetsnamederic do?"
   ]
  },
  {
   "cell_type": "markdown",
   "id": "5a3c8ed0-706f-4723-8f43-c3a1c54ba685",
   "metadata": {},
   "source": [
    "Answer : It will import a module named areallyourpetsnamederic to python library."
   ]
  },
  {
   "cell_type": "markdown",
   "id": "fbd1b97d-1200-46b4-a16a-d7339c8029ae",
   "metadata": {},
   "source": [
    "12. If you had a bacon() feature in a spam module, what would you call it after importing spam?"
   ]
  },
  {
   "cell_type": "code",
   "execution_count": null,
   "id": "07d45f1b-4907-4411-8a28-4e60da97c9f6",
   "metadata": {},
   "outputs": [],
   "source": [
    "Answer : spam.bacon()."
   ]
  },
  {
   "cell_type": "markdown",
   "id": "674e49f4-ba7d-47eb-bfc7-39206487e9ca",
   "metadata": {},
   "source": [
    "13. What can you do to save a programme from crashing if it encounters an error?"
   ]
  },
  {
   "cell_type": "markdown",
   "id": "da378194-540c-4822-b0b1-fbf3fee2c431",
   "metadata": {},
   "source": [
    "Answer : Place the line of code that might cause an error in a try clause and use except block to handle the error."
   ]
  },
  {
   "cell_type": "markdown",
   "id": "0baa4455-f844-480f-8b00-62a5f91cb446",
   "metadata": {},
   "source": [
    "14. What is the purpose of the try clause? What is the purpose of the except clause?"
   ]
  },
  {
   "cell_type": "markdown",
   "id": "8d9d0e09-6521-4b0a-a469-4409ad6cc09a",
   "metadata": {},
   "source": [
    "Answer : The code that potentially cause an error goes in the try clause. The code that executes if an error happens goes in the except clause."
   ]
  }
 ],
 "metadata": {
  "kernelspec": {
   "display_name": "Python 3 (ipykernel)",
   "language": "python",
   "name": "python3"
  },
  "language_info": {
   "codemirror_mode": {
    "name": "ipython",
    "version": 3
   },
   "file_extension": ".py",
   "mimetype": "text/x-python",
   "name": "python",
   "nbconvert_exporter": "python",
   "pygments_lexer": "ipython3",
   "version": "3.12.4"
  }
 },
 "nbformat": 4,
 "nbformat_minor": 5
}
