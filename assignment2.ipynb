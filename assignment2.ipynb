{
 "cells": [
  {
   "cell_type": "markdown",
   "id": "d06263d3-0f97-4277-b494-bdf964f2a2cc",
   "metadata": {},
   "source": [
    "Q1. Write a program to calculate the electricity bill\r",
    "    \n",
    "    using only if statement? (accept number of unit from user)    \r",
    "    \n",
    "according to the following criteria:    \r",
    "    \n",
    "\r\n",
    "Unit Pr    i    ce\r\n",
    "First 100 units no ch    a    rge\r\n",
    "Next 100 units Rs 5 per         unit\r\n",
    "After 200 units Rs 10 pe    r     unit\r\n",
    "(For example, if input unit is 350 than total bill amount is Rs2000). Lets exp    l    ain...\r\n",
    "For first 100 no         charges\r\n",
    "Now you have 250 unit     r    emaining\r\n",
    "100-200 you need to pay – 1    0    0*5 = 500\r\n",
    "Now 200-100 you need to pay 15    0    *10 = 1500\r\n",
    "Total = 500+1500 = 2000"
   ]
  },
  {
   "cell_type": "code",
   "execution_count": 114,
   "id": "8fb6b028-6db4-41a0-b292-fda768e80093",
   "metadata": {},
   "outputs": [
    {
     "name": "stdin",
     "output_type": "stream",
     "text": [
      "enter unit 400\n"
     ]
    },
    {
     "name": "stdout",
     "output_type": "stream",
     "text": [
      "total cost 2500\n"
     ]
    }
   ],
   "source": [
    "unit =int(input(\"enter unit\"))\n",
    "if(unit<=100):\n",
    "    print(\"no charges its free\")\n",
    "if(unit>100 and unit<=200):\n",
    "    total_cost = (unit-100)*5\n",
    "    print(\"total cost\",total_cost)\n",
    "if(unit>200):\n",
    "    total_cost = ((unit-200)*10)+500\n",
    "    print(\"total cost\",total_cost)\n",
    "        "
   ]
  },
  {
   "cell_type": "markdown",
   "id": "b49c28c3-4651-430b-9d35-b4d1273df758",
   "metadata": {},
   "source": [
    "Q2. Write a program to accept percentage from the user and display\n",
    "    the grade according to the following criteria:\n",
    "\n",
    "    Marks Grade\n",
    "    > 90 A\n",
    "    > 80 and <= 90 B\n",
    "    >= 60 and <= 80 C\n",
    "    below 60 D"
   ]
  },
  {
   "cell_type": "code",
   "execution_count": 45,
   "id": "4a7b81bd-e853-46aa-b537-9baf26037e77",
   "metadata": {},
   "outputs": [
    {
     "name": "stdin",
     "output_type": "stream",
     "text": [
      "enter percentage 1000\n"
     ]
    },
    {
     "name": "stdout",
     "output_type": "stream",
     "text": [
      "invalid input percentage greater more than\n"
     ]
    }
   ],
   "source": [
    "percentage = int(input(\"enter percentage\"))\n",
    "if(percentage>=90 and percentage<=100):\n",
    "    print(\"Grade A\")\n",
    "elif(percentage>=80 and percentage<=90):\n",
    "    print(\"Grade B\")\n",
    "elif(percentage>=60 and percentage<=80):\n",
    "    print(\"Grade C\")\n",
    "elif(percentage<=60):\n",
    "    print(\"Grade D\")\n",
    "else:\n",
    "    print(\"invalid input percentage greater more than\")"
   ]
  },
  {
   "cell_type": "markdown",
   "id": "da3ea110-5210-40b6-908e-ac798abd6c64",
   "metadata": {},
   "source": [
    "Q3. Accept the age of 4 people and display the youngest one?"
   ]
  },
  {
   "cell_type": "code",
   "execution_count": 68,
   "id": "2bc28462-4caa-44ff-b211-851022dc212e",
   "metadata": {},
   "outputs": [
    {
     "name": "stdin",
     "output_type": "stream",
     "text": [
      "enter your a 45\n",
      "enter your b 64\n",
      "enter your c 38\n",
      "enter your d 52\n"
     ]
    },
    {
     "name": "stdout",
     "output_type": "stream",
     "text": [
      "third people is youngest\n"
     ]
    }
   ],
   "source": [
    "a = (input(\"enter your a\"))\n",
    "b = (input(\"enter your b\"))\n",
    "c = (input(\"enter your c\"))\n",
    "d = (input(\"enter your d\"))\n",
    "\n",
    "\n",
    "if(a<b and a<c and a<d):\n",
    "    print(\"first people is youngest\")\n",
    "elif(b<a and b<c and b<d):\n",
    "    print(\"second people is youngest\")\n",
    "elif(c<a and c<b and c<d):\n",
    "    print(\"third people is youngest\")\n",
    "else:\n",
    "    (d<a and d<b and d<c)\n",
    "    print(\"fourth people is youngest\")"
   ]
  },
  {
   "cell_type": "markdown",
   "id": "454aa3fe-b2c7-451d-899c-52208c6baeed",
   "metadata": {},
   "source": [
    "Q4. A company decided to give bonus to employee\r",
    "    \n",
    "according to following criteria:\r",
    "    \n",
    "\r\n",
    "Time period of Service Bonu    s\r\n",
    "\r\n",
    "More than 10 years     10%\r\n",
    "\r\n",
    ">=6 and <=    10 8%\r\n",
    "\r\n",
    "Less than 6 y    ears 5%\r\n",
    "\r\n",
    "Ask user for their salary and years of service and     print the\r\n",
    "net bonus amount?"
   ]
  },
  {
   "cell_type": "code",
   "execution_count": 134,
   "id": "041e0369-d526-4c70-a15b-bf5750a1524f",
   "metadata": {},
   "outputs": [
    {
     "name": "stdin",
     "output_type": "stream",
     "text": [
      "enter your salary 30000\n",
      "enter your years of service 5\n"
     ]
    },
    {
     "name": "stdout",
     "output_type": "stream",
     "text": [
      "the net bonus amount of people 1800.0\n"
     ]
    }
   ],
   "source": [
    "salary = int(input(\"enter your salary\"))\n",
    "year = int(input(\"enter your years of service\"))\n",
    "\n",
    "\n",
    "if(year>10):\n",
    "    bonus=10/100*salary\n",
    "    print(\"the net bonus amount of people\", bonus)\n",
    "elif(year>=6 and year<=10):\n",
    "    bonus=8/100*salary\n",
    "    print(\"the net bonus amount of people\", bonus)\n",
    "else:\n",
    "    bonus=6/100*salary\n",
    "    print(\"the net bonus amount of people\", bonus)\n",
    "    \n"
   ]
  },
  {
   "cell_type": "markdown",
   "id": "1a5556b3-0338-41d6-9cf0-89d41ef0546e",
   "metadata": {},
   "source": [
    "Q5. Accept three numbers from the user and display the second largest number??"
   ]
  },
  {
   "cell_type": "code",
   "execution_count": 96,
   "id": "fb664588-927f-4e94-be9c-889b360e2021",
   "metadata": {},
   "outputs": [
    {
     "name": "stdin",
     "output_type": "stream",
     "text": [
      "enter number 34\n",
      "enter number 54\n",
      "enter number 66\n"
     ]
    },
    {
     "name": "stdout",
     "output_type": "stream",
     "text": [
      "B is second largest 54\n"
     ]
    }
   ],
   "source": [
    "a = int(input(\"enter number\"))\n",
    "b = int(input(\"enter number\"))\n",
    "c = int(input(\"enter number\"))\n",
    "if(b<a<c):\n",
    "    print(\"A is second largest\",a)\n",
    "elif(b>a>c):\n",
    "    print(\"A is second largest\",a)\n",
    "elif(a<b<c):\n",
    "    print(\"B is second largest\",b)\n",
    "elif(a>b>c):\n",
    "    print(\"B is second largest\",b)\n",
    "elif(a<c<b):\n",
    "    print(\"C is second largest\",c)\n",
    "elif(a>c>b):\n",
    "    print(\"C is second largest\",c)\n",
    "    "
   ]
  },
  {
   "cell_type": "code",
   "execution_count": null,
   "id": "8c0d5a84-5f2f-4125-a910-9de0f36dc794",
   "metadata": {},
   "outputs": [],
   "source": [
    "Q6. Accept the marked price from the user and calculate\n",
    "    the Net amount as (Marked Price – Discount) to pay\n",
    "    according to following criteria:\n",
    "\n",
    "    Marked Price Discount\n",
    "    >10000 20%\n",
    "    >7000 and <=10000 15%\n",
    "    <=7000 10%"
   ]
  },
  {
   "cell_type": "code",
   "execution_count": 158,
   "id": "0ebee75a-426c-4dfc-b0c5-28e75f639fb8",
   "metadata": {},
   "outputs": [
    {
     "name": "stdin",
     "output_type": "stream",
     "text": [
      "enter market price 10000\n"
     ]
    },
    {
     "name": "stdout",
     "output_type": "stream",
     "text": [
      "final amount of pay 8500.0\n"
     ]
    }
   ],
   "source": [
    "price = int(input(\"enter market price\"))\n",
    "if(price>10000):\n",
    "    discount=20/100*price\n",
    "    final_amount=price-discount\n",
    "    print(\"final amount of pay\",final_amount)\n",
    "elif(price>7000 and price<=10000):\n",
    "    discount=15/100*price\n",
    "    final_amount=price-discount\n",
    "    print(\"final amount of pay\",final_amount)\n",
    "else:\n",
    "    discount=10/100*price\n",
    "    final_amount=price-discount\n",
    "    print(\"final amount of pay\",final_amount)"
   ]
  },
  {
   "cell_type": "markdown",
   "id": "5b195fac-29fd-403d-9765-dee61eb12883",
   "metadata": {},
   "source": [
    "Q7. Accept the marks of English, Math and Science,\r",
    "    \n",
    "Social Studies Subject and display the stream allotted    \r\n",
    "according to following:    \r\n",
    "\r\n",
    "All Subjects more than 80 marks — Science Stre    am\r\n",
    "\r\n",
    "English >80 and Math, Science above 50 — Commerce St    ream\r\n",
    "\r\n",
    "English > 80 and social studies > 80 — Humanities"
   ]
  },
  {
   "cell_type": "code",
   "execution_count": 63,
   "id": "01d72f65-2817-42be-83dd-0902b2b2ff83",
   "metadata": {},
   "outputs": [
    {
     "name": "stdin",
     "output_type": "stream",
     "text": [
      "enter your english marks 84\n",
      "enter your math marks 48\n",
      "enter your science marks 45\n",
      "enter your social science 82\n"
     ]
    },
    {
     "name": "stdout",
     "output_type": "stream",
     "text": [
      "humanities stream alloted\n"
     ]
    }
   ],
   "source": [
    "english = int(input(\"enter your english marks\"))\n",
    "math =  int(input(\"enter your math marks\"))\n",
    "science = int(input(\"enter your science marks\"))\n",
    "social_science = int(input(\"enter your social science\"))\n",
    "\n",
    "if(english>80 and math>80 and science>80 and social_science>80):\n",
    "    print(\"science stream alloted\")\n",
    "elif(english>80 and math>50 and science>50):\n",
    "    print(\"commerce stream alloted\")\n",
    "else:\n",
    "    (english>80 and social_science>80)\n",
    "    print(\"humanities stream alloted\")"
   ]
  },
  {
   "cell_type": "markdown",
   "id": "9a5fb57d-9007-4c17-bf3e-fb25eeff39c6",
   "metadata": {},
   "source": [
    "Q8. Write a program to display \"Hello\" if a number entered \n",
    "by user is a multiple of five, otherwise print \"Bye\"?"
   ]
  },
  {
   "cell_type": "code",
   "execution_count": 74,
   "id": "6922bcbb-f347-4db7-93b9-979f8a9ca7dc",
   "metadata": {},
   "outputs": [
    {
     "name": "stdin",
     "output_type": "stream",
     "text": [
      "enter your digit 23\n"
     ]
    },
    {
     "name": "stdout",
     "output_type": "stream",
     "text": [
      "bye\n"
     ]
    }
   ],
   "source": [
    "number = int(input(\"enter your digit\"))\n",
    "if(number%5==0):\n",
    "    print(\"hello\")\n",
    "else:\n",
    "    print(\"bye\")"
   ]
  },
  {
   "cell_type": "markdown",
   "id": "999e8803-7840-496a-969a-e9eed594030a",
   "metadata": {},
   "source": [
    "Q9. Write a program to check whether the last digit of a number(entered by user) is divisible by 3 or not?"
   ]
  },
  {
   "cell_type": "code",
   "execution_count": 82,
   "id": "e470305a-e8b3-43a3-aa74-9edff6f346bc",
   "metadata": {},
   "outputs": [
    {
     "name": "stdin",
     "output_type": "stream",
     "text": [
      "enter your number 459\n"
     ]
    },
    {
     "name": "stdout",
     "output_type": "stream",
     "text": [
      "it is divisible by 3\n"
     ]
    }
   ],
   "source": [
    "number = int(input(\"enter your number\"))\n",
    "last_digit=number%10\n",
    "if(last_digit%3==0):\n",
    "    print(\"it is divisible by 3\")\n",
    "else:\n",
    "    print(\"it is not divisible by 3\")"
   ]
  },
  {
   "cell_type": "markdown",
   "id": "c40cedf5-1932-4075-b224-1fffa12e5498",
   "metadata": {},
   "source": [
    "Q10. Write a program to check whether a number entered is three-digit number or not?"
   ]
  },
  {
   "cell_type": "code",
   "execution_count": 92,
   "id": "aace1552-9db7-4882-b6e0-5a0ffb5be6ce",
   "metadata": {},
   "outputs": [
    {
     "name": "stdin",
     "output_type": "stream",
     "text": [
      "enter your number 585\n"
     ]
    },
    {
     "name": "stdout",
     "output_type": "stream",
     "text": [
      " it is three digit number\n"
     ]
    }
   ],
   "source": [
    "number = input(\"enter your number\")\n",
    "if(len(number)==3):\n",
    "    print(\" it is three digit number\")\n",
    "else:\n",
    "    print(\" it is not three digit number \")\n"
   ]
  },
  {
   "cell_type": "code",
   "execution_count": 94,
   "id": "a5b3a4fe-de7a-42aa-9b43-4a4099034107",
   "metadata": {},
   "outputs": [
    {
     "name": "stdin",
     "output_type": "stream",
     "text": [
      "enter your number 10245\n"
     ]
    },
    {
     "name": "stdout",
     "output_type": "stream",
     "text": [
      " it is not three digit number \n"
     ]
    }
   ],
   "source": [
    "number = input(\"enter your number\")\n",
    "if(len(number)==3):\n",
    "    print(\" it is three digit number\")\n",
    "else:\n",
    "    print(\" it is not three digit number \")\n"
   ]
  }
 ],
 "metadata": {
  "kernelspec": {
   "display_name": "Python 3 (ipykernel)",
   "language": "python",
   "name": "python3"
  },
  "language_info": {
   "codemirror_mode": {
    "name": "ipython",
    "version": 3
   },
   "file_extension": ".py",
   "mimetype": "text/x-python",
   "name": "python",
   "nbconvert_exporter": "python",
   "pygments_lexer": "ipython3",
   "version": "3.12.4"
  }
 },
 "nbformat": 4,
 "nbformat_minor": 5
}
