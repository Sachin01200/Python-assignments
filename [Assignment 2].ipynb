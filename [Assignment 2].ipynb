{
 "cells": [
  {
   "cell_type": "markdown",
   "id": "beb58e35-b201-4011-a888-dcbb8b56dda7",
   "metadata": {},
   "source": [
    "Q1. write a python program  to convert kilometers to miles?\n"
   ]
  },
  {
   "cell_type": "code",
   "execution_count": 2,
   "id": "4291ca93-306a-4b48-af6f-efc1a78fcf74",
   "metadata": {},
   "outputs": [
    {
     "name": "stdin",
     "output_type": "stream",
     "text": [
      "enter kilometer 4\n"
     ]
    },
    {
     "name": "stdout",
     "output_type": "stream",
     "text": [
      "miles 2.48\n"
     ]
    }
   ],
   "source": [
    "num = int(input(\"enter kilometer\"))\n",
    "a  = num*0.62\n",
    "print(\"miles\",a)"
   ]
  },
  {
   "cell_type": "markdown",
   "id": "87c0e129-853f-4172-9d7e-71d2d9a5e01b",
   "metadata": {},
   "source": [
    "Q2. Write a python program to convert celsius to fahrenheit?"
   ]
  },
  {
   "cell_type": "code",
   "execution_count": 5,
   "id": "993e47a1-9e96-4962-bd4e-f633b7d2da33",
   "metadata": {},
   "outputs": [
    {
     "name": "stdin",
     "output_type": "stream",
     "text": [
      "enter celsius 5\n"
     ]
    },
    {
     "name": "stdout",
     "output_type": "stream",
     "text": [
      "fahrenheit 41.0\n"
     ]
    }
   ],
   "source": [
    "num = int(input(\"enter celsius\"))\n",
    "a = (num*1.8)+32\n",
    "print(\"fahrenheit\",a)"
   ]
  },
  {
   "cell_type": "markdown",
   "id": "c43faa3e-5ebd-43a4-95b4-a08a41f7bd51",
   "metadata": {},
   "source": [
    "Q.3 write a python program to display calendar?"
   ]
  },
  {
   "cell_type": "code",
   "execution_count": 45,
   "id": "e450a1f0-1386-4894-a13c-8b3be6b53f3f",
   "metadata": {},
   "outputs": [
    {
     "name": "stdin",
     "output_type": "stream",
     "text": [
      "enter year 2024\n"
     ]
    },
    {
     "name": "stdout",
     "output_type": "stream",
     "text": [
      "                                  2024\n",
      "\n",
      "      January                   February                   March\n",
      "Mo Tu We Th Fr Sa Su      Mo Tu We Th Fr Sa Su      Mo Tu We Th Fr Sa Su\n",
      " 1  2  3  4  5  6  7                1  2  3  4                   1  2  3\n",
      " 8  9 10 11 12 13 14       5  6  7  8  9 10 11       4  5  6  7  8  9 10\n",
      "15 16 17 18 19 20 21      12 13 14 15 16 17 18      11 12 13 14 15 16 17\n",
      "22 23 24 25 26 27 28      19 20 21 22 23 24 25      18 19 20 21 22 23 24\n",
      "29 30 31                  26 27 28 29               25 26 27 28 29 30 31\n",
      "\n",
      "       April                      May                       June\n",
      "Mo Tu We Th Fr Sa Su      Mo Tu We Th Fr Sa Su      Mo Tu We Th Fr Sa Su\n",
      " 1  2  3  4  5  6  7             1  2  3  4  5                      1  2\n",
      " 8  9 10 11 12 13 14       6  7  8  9 10 11 12       3  4  5  6  7  8  9\n",
      "15 16 17 18 19 20 21      13 14 15 16 17 18 19      10 11 12 13 14 15 16\n",
      "22 23 24 25 26 27 28      20 21 22 23 24 25 26      17 18 19 20 21 22 23\n",
      "29 30                     27 28 29 30 31            24 25 26 27 28 29 30\n",
      "\n",
      "        July                     August                  September\n",
      "Mo Tu We Th Fr Sa Su      Mo Tu We Th Fr Sa Su      Mo Tu We Th Fr Sa Su\n",
      " 1  2  3  4  5  6  7                1  2  3  4                         1\n",
      " 8  9 10 11 12 13 14       5  6  7  8  9 10 11       2  3  4  5  6  7  8\n",
      "15 16 17 18 19 20 21      12 13 14 15 16 17 18       9 10 11 12 13 14 15\n",
      "22 23 24 25 26 27 28      19 20 21 22 23 24 25      16 17 18 19 20 21 22\n",
      "29 30 31                  26 27 28 29 30 31         23 24 25 26 27 28 29\n",
      "                                                    30\n",
      "\n",
      "      October                   November                  December\n",
      "Mo Tu We Th Fr Sa Su      Mo Tu We Th Fr Sa Su      Mo Tu We Th Fr Sa Su\n",
      "    1  2  3  4  5  6                   1  2  3                         1\n",
      " 7  8  9 10 11 12 13       4  5  6  7  8  9 10       2  3  4  5  6  7  8\n",
      "14 15 16 17 18 19 20      11 12 13 14 15 16 17       9 10 11 12 13 14 15\n",
      "21 22 23 24 25 26 27      18 19 20 21 22 23 24      16 17 18 19 20 21 22\n",
      "28 29 30 31               25 26 27 28 29 30         23 24 25 26 27 28 29\n",
      "                                                    30 31\n",
      "\n"
     ]
    }
   ],
   "source": [
    "import calendar\n",
    "\n",
    "yy = int(input(\"enter year\"))\n",
    "print(calendar.calendar(yy))"
   ]
  },
  {
   "cell_type": "markdown",
   "id": "8acd95af-e93f-4c76-8690-dd76d87f609e",
   "metadata": {},
   "source": [
    "Q.4 write a python program tp solve quadratic equation?"
   ]
  },
  {
   "cell_type": "code",
   "execution_count": 47,
   "id": "d9a02b70-3ade-45f3-9414-90472c826841",
   "metadata": {},
   "outputs": [
    {
     "name": "stdin",
     "output_type": "stream",
     "text": [
      "enter a:  5\n",
      "enter b:  4\n",
      "enter c:  6\n"
     ]
    },
    {
     "name": "stdout",
     "output_type": "stream",
     "text": [
      "The solution are (-0.4-1.0198039027185568j) and (-0.4+1.0198039027185568j)\n"
     ]
    }
   ],
   "source": [
    "import cmath\n",
    "\n",
    "a = float(input('enter a: '))\n",
    "b = float(input('enter b: '))\n",
    "c = float(input('enter c: '))\n",
    "\n",
    "# calculate the discriminant\n",
    "d = (b**2) - (4*a*c)\n",
    "\n",
    "# find two solutions\n",
    "sol1 = (-b-cmath.sqrt(d))/(2*a)\n",
    "sol2 = (-b+cmath.sqrt(d))/(2*a)\n",
    "\n",
    "print('The solution are {0} and {1}'.format(sol1,sol2))\n",
    "\n",
    "          \n",
    "\n"
   ]
  },
  {
   "cell_type": "markdown",
   "id": "8f2d0d98-a4d3-4257-99a7-811162c1d6e3",
   "metadata": {},
   "source": [
    "Q.5 write a python program to swap two variables without temp variables?"
   ]
  },
  {
   "cell_type": "code",
   "execution_count": 18,
   "id": "751a7fc6-3e16-4869-872c-50f400dd9864",
   "metadata": {},
   "outputs": [
    {
     "name": "stdin",
     "output_type": "stream",
     "text": [
      "enter number 10\n",
      "enter number 50\n"
     ]
    },
    {
     "name": "stdout",
     "output_type": "stream",
     "text": [
      "after swap is a  50\n",
      "after swap is b 10\n"
     ]
    }
   ],
   "source": [
    "a = int(input(\"enter number\")) \n",
    "b = int(input(\"enter number\"))\n",
    "a,b = b,a\n",
    "print(\"after swap is a \",a)\n",
    "print(\"after swap is b\",b)"
   ]
  }
 ],
 "metadata": {
  "kernelspec": {
   "display_name": "Python 3 (ipykernel)",
   "language": "python",
   "name": "python3"
  },
  "language_info": {
   "codemirror_mode": {
    "name": "ipython",
    "version": 3
   },
   "file_extension": ".py",
   "mimetype": "text/x-python",
   "name": "python",
   "nbconvert_exporter": "python",
   "pygments_lexer": "ipython3",
   "version": "3.12.4"
  }
 },
 "nbformat": 4,
 "nbformat_minor": 5
}
