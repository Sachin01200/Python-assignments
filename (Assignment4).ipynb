{
 "cells": [
  {
   "cell_type": "markdown",
   "id": "64611b3d-5751-4466-af65-d991f2a1dab0",
   "metadata": {},
   "source": [
    "1. What exactly is []?"
   ]
  },
  {
   "cell_type": "code",
   "execution_count": 9,
   "id": "813cb6be-3666-4775-892e-424c597e37ca",
   "metadata": {},
   "outputs": [
    {
     "name": "stdout",
     "output_type": "stream",
     "text": [
      "<class 'list'>\n"
     ]
    }
   ],
   "source": [
    "## This is a empty list :\n",
    "my_list = []\n",
    "print(type(my_list))"
   ]
  },
  {
   "cell_type": "markdown",
   "id": "e253b99b-f810-461d-9545-c5e63e0ec66d",
   "metadata": {},
   "source": [
    "2. In a list of values stored in a variable called spam, how would you assign the value 'hello' as the\n",
    "third value? (Assume [2, 4, 6, 8, 10] are in spam.)"
   ]
  },
  {
   "cell_type": "code",
   "execution_count": 19,
   "id": "f23906a1-3d23-45dc-af7a-45fb48b3b049",
   "metadata": {},
   "outputs": [
    {
     "name": "stdout",
     "output_type": "stream",
     "text": [
      "[2, 4, 'hello', 8, 10]\n"
     ]
    }
   ],
   "source": [
    "spam = [2,4,6,8,10]\n",
    "spam[2] = \"hello\"\n",
    "print(spam)"
   ]
  },
  {
   "cell_type": "markdown",
   "id": "c18afca5-e0c0-4eed-98f4-1931b516143a",
   "metadata": {},
   "source": [
    "Let's pretend the spam includes the list ['a','b','c',d] for the next three queries."
   ]
  },
  {
   "cell_type": "markdown",
   "id": "b2eea97b-5c56-417e-a545-1c68ea6a2b36",
   "metadata": {},
   "source": [
    "3. What is the value of spam[int(int('3'*2)/11)]?\n",
    "   spam['a','b','c','d']"
   ]
  },
  {
   "cell_type": "code",
   "execution_count": 9,
   "id": "95b4786b-8be3-4dca-a0ae-7e0e417a4a40",
   "metadata": {},
   "outputs": [
    {
     "data": {
      "text/plain": [
       "'d'"
      ]
     },
     "execution_count": 9,
     "metadata": {},
     "output_type": "execute_result"
    }
   ],
   "source": [
    "spam = ['a','b','c','d']\n",
    "spam[int(int('3'*2)/11)]"
   ]
  },
  {
   "cell_type": "markdown",
   "id": "a9b8fbaf-4a5a-46ac-bf6a-69427d45881a",
   "metadata": {},
   "source": [
    "4. What is the value of spam[-1]?"
   ]
  },
  {
   "cell_type": "code",
   "execution_count": 13,
   "id": "f1239278-a751-4506-94eb-c8b177cae669",
   "metadata": {},
   "outputs": [
    {
     "data": {
      "text/plain": [
       "'d'"
      ]
     },
     "execution_count": 13,
     "metadata": {},
     "output_type": "execute_result"
    }
   ],
   "source": [
    "spam = ['a','b','c','d']\n",
    "spam[-1]"
   ]
  },
  {
   "cell_type": "markdown",
   "id": "46170540-c026-4dbb-a6c9-300ed2701b84",
   "metadata": {},
   "source": [
    "5. What is the value of spam[:2]?"
   ]
  },
  {
   "cell_type": "code",
   "execution_count": 15,
   "id": "e018bc8a-15be-4868-83f5-657b01013396",
   "metadata": {},
   "outputs": [
    {
     "data": {
      "text/plain": [
       "['a', 'b']"
      ]
     },
     "execution_count": 15,
     "metadata": {},
     "output_type": "execute_result"
    }
   ],
   "source": [
    "spam = ['a','b','c','d']\n",
    "spam[:2]"
   ]
  },
  {
   "cell_type": "markdown",
   "id": "869e4ea2-de8c-4cf2-87bb-02d2bc722c18",
   "metadata": {},
   "source": [
    "Let's pretend bacon has the list [3.14,'cat',11,'cat'True] for the next three questions."
   ]
  },
  {
   "cell_type": "markdown",
   "id": "969055a1-bb8b-4520-8c47-d3469ad8023e",
   "metadata": {},
   "source": [
    "6. What is the value of bacon.index('cat')?\n"
   ]
  },
  {
   "cell_type": "code",
   "execution_count": 23,
   "id": "0edeacf7-d15d-4011-ae65-862de0616359",
   "metadata": {},
   "outputs": [
    {
     "data": {
      "text/plain": [
       "1"
      ]
     },
     "execution_count": 23,
     "metadata": {},
     "output_type": "execute_result"
    }
   ],
   "source": [
    "bacon = [3.14,'cat',11,'cat',True]\n",
    "bacon.index('cat')"
   ]
  },
  {
   "cell_type": "markdown",
   "id": "6d2b6427-5cc7-4122-9770-ab2635edd865",
   "metadata": {},
   "source": [
    "7. How does bacon.append(99) change the look of the list value in bacon?"
   ]
  },
  {
   "cell_type": "code",
   "execution_count": 37,
   "id": "b9afcb56-bd8f-4879-9c1e-c587dcbb9d5b",
   "metadata": {},
   "outputs": [
    {
     "name": "stdout",
     "output_type": "stream",
     "text": [
      "[3.14, 'cat', 11, 'cat', True, 99]\n"
     ]
    }
   ],
   "source": [
    "bacon = [3.14,'cat',11,'cat',True]\n",
    "bacon.append(99)\n",
    "print(bacon)"
   ]
  },
  {
   "cell_type": "markdown",
   "id": "ed86f7d5-c947-4382-bcbe-1ca27d80c833",
   "metadata": {},
   "source": [
    "8. How does bacon.remove(&#39;cat&#39;) change the look of the list in bacon?"
   ]
  },
  {
   "cell_type": "code",
   "execution_count": 41,
   "id": "046cd193-c766-44c4-b6a2-6eb142036afd",
   "metadata": {},
   "outputs": [
    {
     "name": "stdout",
     "output_type": "stream",
     "text": [
      "[3.14, 11, 'cat', True]\n"
     ]
    }
   ],
   "source": [
    "bacon = [3.14,'cat',11,'cat',True]\n",
    "bacon.remove('cat')  # it can remove first occurence of value\n",
    "print(bacon)"
   ]
  },
  {
   "cell_type": "markdown",
   "id": "41b3a30f-c18b-4d94-857d-8988ab3820a5",
   "metadata": {},
   "source": [
    "9. What are the list concatenation and list replication operators?"
   ]
  },
  {
   "cell_type": "markdown",
   "id": "70501aed-88c4-4137-a4e5-586e8803d0c7",
   "metadata": {},
   "source": [
    "Answer: The operator for list concatenation is +, while the operator for replication is*."
   ]
  },
  {
   "cell_type": "markdown",
   "id": "3e6a8fe1-b230-4cb8-b463-9e546fbca15f",
   "metadata": {},
   "source": [
    "10. What is difference between the list methods append() and insert()?"
   ]
  },
  {
   "cell_type": "code",
   "execution_count": 43,
   "id": "bc4555e7-f360-4437-8077-c3bc8c58dcb4",
   "metadata": {},
   "outputs": [
    {
     "name": "stdout",
     "output_type": "stream",
     "text": [
      "[2, 5, 6, 7, 8, 25]\n"
     ]
    }
   ],
   "source": [
    "# append() will add values only to end of the list:\n",
    "bacon = [2,5,6,7,8]\n",
    "bacon.append(25)\n",
    "print(bacon)"
   ]
  },
  {
   "cell_type": "code",
   "execution_count": 45,
   "id": "bd4a6a23-83e6-448a-9e65-0a5a315a3297",
   "metadata": {},
   "outputs": [
    {
     "name": "stdout",
     "output_type": "stream",
     "text": [
      "[2, 5, 25, 6, 7, 8]\n"
     ]
    }
   ],
   "source": [
    "# insert() can add them anywhere in the list:\n",
    "bacon = [2,5,6,7,8]\n",
    "bacon.insert(2,25)\n",
    "print(bacon)"
   ]
  },
  {
   "cell_type": "markdown",
   "id": "16a86f7f-159a-4faf-b45b-7f876892dfba",
   "metadata": {},
   "source": [
    "11. What are the two methods for removing items from a list?"
   ]
  },
  {
   "cell_type": "markdown",
   "id": "09ca2ce3-1bc1-4b7d-8b23-afb541eb6f27",
   "metadata": {},
   "source": [
    "Answer : 1). pop () method : pop How to remove elements from the list will remove specified index element. However, if your do not specify any index \n",
    "             number inside method it will remove last element of the list.\n",
    "         2).remove () method :Let's see example for both..\n",
    "          : will remove specified elements."
   ]
  },
  {
   "cell_type": "code",
   "execution_count": 53,
   "id": "464445b3-3b4f-4aa7-9e04-120fa57d0c72",
   "metadata": {},
   "outputs": [
    {
     "name": "stdout",
     "output_type": "stream",
     "text": [
      "[2, 5, 6, 7]\n",
      "[5, 6, 7, 8]\n"
     ]
    }
   ],
   "source": [
    "# pop () method :\n",
    "bacon = [2,5,6,7,8]\n",
    "bacon.pop()\n",
    "print(bacon)\n",
    "\n",
    "bacon = [2,5,6,7,8]\n",
    "bacon.pop(0)\n",
    "print(bacon)\n",
    "\n"
   ]
  },
  {
   "cell_type": "code",
   "execution_count": 59,
   "id": "09f4f236-1643-47de-b400-0ec0b1ce189b",
   "metadata": {},
   "outputs": [
    {
     "name": "stdout",
     "output_type": "stream",
     "text": [
      "[2, 5, 7, 8]\n",
      "[2, 5, 6, 8]\n"
     ]
    }
   ],
   "source": [
    "# remove method \n",
    "bacon = [2,5,6,7,8]\n",
    "bacon.remove(6)\n",
    "print(bacon)\n",
    "\n",
    "bacon = [2,5,6,6,8]\n",
    "bacon.remove(6)\n",
    "print(bacon)\n"
   ]
  },
  {
   "cell_type": "markdown",
   "id": "5d81b667-a748-4068-a66a-1b0218f3a131",
   "metadata": {},
   "source": [
    "12. Describe how list values and string values are identical."
   ]
  },
  {
   "cell_type": "markdown",
   "id": "fc3df692-95ac-422b-a3a6-e8c1c6ab03b3",
   "metadata": {},
   "source": [
    "Answer : Both lists and strings can be passed to len(), have indexes and slices, be used in for loops, be  concatenated or replicated, and be used with           the in and not in operators."
   ]
  },
  {
   "cell_type": "markdown",
   "id": "733b1188-98bb-46d4-9177-7e8d8f918c0b",
   "metadata": {},
   "source": [
    "13. What's the difference between tuples and lists?"
   ]
  },
  {
   "cell_type": "markdown",
   "id": "38747c4e-702e-4f23-a86f-dfa667d2fb20",
   "metadata": {},
   "source": [
    "Answer : Lists are mutable; they can have values added, removed, or changed. Tuples are immutable; they cannot be changed at all.\n",
    "         Tuples are written using parentheses, ( and ), while lists use the square brackets, [__and__]."
   ]
  },
  {
   "cell_type": "markdown",
   "id": "24a42fb4-ed2b-48a6-8370-964346bf7dac",
   "metadata": {},
   "source": [
    "14. How do you type a tuple value that only contains the integer 42?"
   ]
  },
  {
   "cell_type": "code",
   "execution_count": 117,
   "id": "edbdff97-6c6b-4a9f-87e0-5fe999a0ba18",
   "metadata": {},
   "outputs": [
    {
     "data": {
      "text/plain": [
       "tuple"
      ]
     },
     "execution_count": 117,
     "metadata": {},
     "output_type": "execute_result"
    }
   ],
   "source": [
    "a = (42,)\n",
    "type(a)"
   ]
  },
  {
   "cell_type": "markdown",
   "id": "fb6a81b9-37e5-420c-8623-c199e88ac5c7",
   "metadata": {},
   "source": [
    "15. How do you get a list value's tuple form? How do you get a tuple value's list form?"
   ]
  },
  {
   "cell_type": "code",
   "execution_count": 15,
   "id": "64fb91d5-1448-454c-8a13-bdf3a6cf722b",
   "metadata": {},
   "outputs": [
    {
     "name": "stdout",
     "output_type": "stream",
     "text": [
      "(1, 2, 3, 4)\n",
      "<class 'tuple'>\n"
     ]
    }
   ],
   "source": [
    "# List value tuple form\n",
    "a = [1,2,3,4]\n",
    "b = tuple(a)\n",
    "print(b)\n",
    "print(type(b))"
   ]
  },
  {
   "cell_type": "code",
   "execution_count": 23,
   "id": "21e9fc48-3cf1-4a5e-9389-b36db091e476",
   "metadata": {},
   "outputs": [
    {
     "name": "stdout",
     "output_type": "stream",
     "text": [
      "[1, 2, 3]\n",
      "<class 'list'>\n"
     ]
    }
   ],
   "source": [
    "# tuple value list form\n",
    "a = (1,2,3)\n",
    "b = list(a)\n",
    "print(b)\n",
    "print(type(b))"
   ]
  },
  {
   "cell_type": "markdown",
   "id": "f6ba0c6a-5a47-40da-ba07-1d6ae3106900",
   "metadata": {},
   "source": [
    "16. Variables that \"contain\" list values are not necessarily lists themselves. Instead, what do they contain?"
   ]
  },
  {
   "cell_type": "code",
   "execution_count": null,
   "id": "92cf5bb4-18f3-4465-a104-c81c2fc892fe",
   "metadata": {},
   "outputs": [],
   "source": [
    "Answer : It contains list values."
   ]
  },
  {
   "cell_type": "markdown",
   "id": "4ab89404-c10b-4324-a13e-33f62dec39db",
   "metadata": {},
   "source": [
    "17. How do you distinguish between copy.copy() and copy.deepcopy()?"
   ]
  },
  {
   "cell_type": "code",
   "execution_count": 25,
   "id": "891da4ad-a4a4-4462-8798-2b027cd17069",
   "metadata": {},
   "outputs": [
    {
     "name": "stdout",
     "output_type": "stream",
     "text": [
      "[1, 2, 5, 4]\n",
      "[1, 2, 5, 4, 99]\n",
      "[1, 2, 5, 4, 99]\n"
     ]
    }
   ],
   "source": [
    "# Shallow copy :   shallow\" copy means that you create a new copy of the object, so adding to list b will obviously NOT impact list a.\n",
    "\n",
    "my_list = [1,2,5,4]\n",
    "my_list1 = my_list\n",
    "print(my_list1)\n",
    "my_list1.append(99)\n",
    "print(my_list1)\n",
    "print(my_list)"
   ]
  },
  {
   "cell_type": "code",
   "execution_count": 37,
   "id": "dc2c2fc7-f747-4239-aeae-7be52fb2b8fd",
   "metadata": {},
   "outputs": [
    {
     "name": "stdout",
     "output_type": "stream",
     "text": [
      "[2, 5, 6, 7]\n",
      "[2, 5, 6, 7, 10]\n",
      "[2, 5, 6, 7]\n"
     ]
    }
   ],
   "source": [
    "# Deep copy : I just want to understand difference between deepcopy and shallow copy. Because shallowcopy and deepcopy is behaving in same manner.\n",
    "\n",
    "my_list2 = [2,5,6,7]\n",
    "my_list3 = copy.deepcopy(my_list2)\n",
    "print(my_list3)\n",
    "my_list3.append(10)\n",
    "print(my_list3)\n",
    "print(my_list2)"
   ]
  },
  {
   "cell_type": "code",
   "execution_count": null,
   "id": "833e9275-1787-46a4-be35-f59411340c6a",
   "metadata": {},
   "outputs": [],
   "source": []
  }
 ],
 "metadata": {
  "kernelspec": {
   "display_name": "Python 3 (ipykernel)",
   "language": "python",
   "name": "python3"
  },
  "language_info": {
   "codemirror_mode": {
    "name": "ipython",
    "version": 3
   },
   "file_extension": ".py",
   "mimetype": "text/x-python",
   "name": "python",
   "nbconvert_exporter": "python",
   "pygments_lexer": "ipython3",
   "version": "3.12.4"
  }
 },
 "nbformat": 4,
 "nbformat_minor": 5
}
