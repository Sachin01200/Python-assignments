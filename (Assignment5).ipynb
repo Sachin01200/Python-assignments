{
 "cells": [
  {
   "cell_type": "markdown",
   "id": "b1e147ae-9d44-4495-b778-919f0881bbd3",
   "metadata": {},
   "source": [
    "1. What does an empty dictionary's code look like?"
   ]
  },
  {
   "cell_type": "code",
   "execution_count": 2,
   "id": "4c17b4b0-9195-4d79-949e-e04804347497",
   "metadata": {},
   "outputs": [
    {
     "name": "stdout",
     "output_type": "stream",
     "text": [
      "<class 'dict'>\n"
     ]
    }
   ],
   "source": [
    "my_dict = {}\n",
    "print(type(my_dict))"
   ]
  },
  {
   "cell_type": "markdown",
   "id": "8a56a7bc-68db-4f32-8cd6-7d20fa182ae3",
   "metadata": {},
   "source": [
    "1. What is the value of a dictionary value with the key 'foo' and the value 42?"
   ]
  },
  {
   "cell_type": "code",
   "execution_count": 3,
   "id": "20bc0c31-7c86-41a7-9706-39a07bceda2f",
   "metadata": {},
   "outputs": [
    {
     "data": {
      "text/plain": [
       "dict_values([42])"
      ]
     },
     "execution_count": 3,
     "metadata": {},
     "output_type": "execute_result"
    }
   ],
   "source": [
    "my_dict = {\"foo\":42}\n",
    "my_dict.values()"
   ]
  },
  {
   "cell_type": "markdown",
   "id": "08545c76-7a50-459a-aae3-4a0c0078449f",
   "metadata": {},
   "source": [
    "3. What is the most significant distinction between a dictionary and a list?"
   ]
  },
  {
   "cell_type": "markdown",
   "id": "c7beaf07-c92b-46f3-bb60-fbcc064f8faf",
   "metadata": {},
   "source": [
    "Answer: 1. Dictionary are unordered collection of data points.It uses key,value structure to store the values.\n",
    "        2. list have ordered items."
   ]
  },
  {
   "cell_type": "code",
   "execution_count": 7,
   "id": "3a479f0a-a77b-4b93-aa94-41c5ea4df632",
   "metadata": {},
   "outputs": [
    {
     "name": "stdout",
     "output_type": "stream",
     "text": [
      "[1, 2, 3, 4, 5, 6]\n"
     ]
    }
   ],
   "source": [
    "# Lists have ordered items\n",
    "list = [1,2,3,4,5,6]\n",
    "print(list)"
   ]
  },
  {
   "cell_type": "code",
   "execution_count": 8,
   "id": "f6853be8-5dc3-4321-8c34-98d730132a31",
   "metadata": {},
   "outputs": [
    {
     "data": {
      "text/plain": [
       "{'the': 123, 'we': 22, 'z': 1}"
      ]
     },
     "execution_count": 8,
     "metadata": {},
     "output_type": "execute_result"
    }
   ],
   "source": [
    "# Dictionaries are unordered collection of data points. It uses key, value structure to store the values.\n",
    "my_dict = {'the':123,'we':22,'z':1}    \n",
    "my_dict"
   ]
  },
  {
   "cell_type": "markdown",
   "id": "a6f9f5c5-dcc7-4c5c-b35b-ecc71f664754",
   "metadata": {},
   "source": [
    "4. What happens if you try to access spam['foo'] if spam is {'bar': 100}?"
   ]
  },
  {
   "cell_type": "code",
   "execution_count": 10,
   "id": "34a192bf-1655-44b2-bd05-08c62c09dc63",
   "metadata": {},
   "outputs": [
    {
     "data": {
      "text/plain": [
       "{'bar': 100}"
      ]
     },
     "execution_count": 10,
     "metadata": {},
     "output_type": "execute_result"
    }
   ],
   "source": [
    "my_dict = {'bar':100}\n",
    "my_dict"
   ]
  },
  {
   "cell_type": "code",
   "execution_count": null,
   "id": "e59097b0-5b95-4c8d-9ff1-ab9ac53837c7",
   "metadata": {},
   "outputs": [],
   "source": [
    "my_dict['foo']      # error throw "
   ]
  },
  {
   "cell_type": "markdown",
   "id": "28f1190d-a5e6-43c8-bf92-aeedb322d473",
   "metadata": {},
   "source": [
    "5. If a dictionary is stored in spam, what is the difference between the expressions 'cat' in spam and\n",
    "   'cat' in spam.keys()?"
   ]
  },
  {
   "cell_type": "code",
   "execution_count": 13,
   "id": "62c9c742-9619-4545-986d-61668adf43b9",
   "metadata": {},
   "outputs": [
    {
     "data": {
      "text/plain": [
       "True"
      ]
     },
     "execution_count": 13,
     "metadata": {},
     "output_type": "execute_result"
    }
   ],
   "source": [
    "my_dict = {'name':'sachin','cat':'1','city':'noida'}\n",
    "'cat' in my_dict"
   ]
  },
  {
   "cell_type": "code",
   "execution_count": 21,
   "id": "9a127644-7ce9-4271-8a07-607fc625389d",
   "metadata": {},
   "outputs": [
    {
     "data": {
      "text/plain": [
       "True"
      ]
     },
     "execution_count": 21,
     "metadata": {},
     "output_type": "execute_result"
    }
   ],
   "source": [
    "'cat' in my_dict.keys()"
   ]
  },
  {
   "cell_type": "markdown",
   "id": "2e464915-fb38-4b25-a509-c37c993e161b",
   "metadata": {},
   "source": [
    "6. If a dictionary is stored in spam, what is the difference between the expressions 'cat' in spam and\r",
    "'cat'; in spam.values()?"
   ]
  },
  {
   "cell_type": "code",
   "execution_count": 31,
   "id": "976a0bad-1fc4-441c-9d02-89a27a11ef86",
   "metadata": {},
   "outputs": [
    {
     "data": {
      "text/plain": [
       "True"
      ]
     },
     "execution_count": 31,
     "metadata": {},
     "output_type": "execute_result"
    }
   ],
   "source": [
    "my_dict = {'name':'sachin','cat':'1','city':'noida'}\n",
    "'cat' in my_dict"
   ]
  },
  {
   "cell_type": "code",
   "execution_count": 29,
   "id": "bb9b4f9e-0847-4eff-a950-4e2e8b70019a",
   "metadata": {},
   "outputs": [
    {
     "data": {
      "text/plain": [
       "False"
      ]
     },
     "execution_count": 29,
     "metadata": {},
     "output_type": "execute_result"
    }
   ],
   "source": [
    "my_dict = {'name':'sachin','cat':'1','city':'noida'}\n",
    "'cat' in my_dict.values()"
   ]
  },
  {
   "cell_type": "markdown",
   "id": "0f2659a4-5bb4-4cbe-9d60-f36ed369e7dd",
   "metadata": {},
   "source": [
    "7. What is a shortcut for the following code?\n",
    "if 'color' not in spam:\n",
    "spam['color'] = 'black'"
   ]
  },
  {
   "cell_type": "code",
   "execution_count": 33,
   "id": "eda2cacc-2491-47b4-88e5-cb080a404819",
   "metadata": {},
   "outputs": [
    {
     "name": "stdout",
     "output_type": "stream",
     "text": [
      "{'color': 'black'}\n"
     ]
    }
   ],
   "source": [
    "my_dict = {}\n",
    "my_dict.setdefault('color','black')\n",
    "print(my_dict)"
   ]
  },
  {
   "cell_type": "markdown",
   "id": "da4a6f4b-aa68-4c10-9f4f-8ba0704ac744",
   "metadata": {},
   "source": [
    "8. How do you \"pretty print\" dictionary values using which module and function?"
   ]
  },
  {
   "cell_type": "code",
   "execution_count": 91,
   "id": "1cb16041-f075-4240-82b2-530967e4e156",
   "metadata": {},
   "outputs": [
    {
     "name": "stdout",
     "output_type": "stream",
     "text": [
      "{'a': {'Age': 22, 'name': 'Anne'}, 'b': {'Age': 55, 'name': 'Luke'}}\n"
     ]
    }
   ],
   "source": [
    "my_dict = my_dict = {'a': {'Age': 22, 'name': 'Anne'},\n",
    "                                                      'b': {'Age': 55, 'name': 'Luke'}}\n",
    "print(my_dict)\n",
    "            "
   ]
  },
  {
   "cell_type": "code",
   "execution_count": 93,
   "id": "c783b4f9-c6cc-410f-87aa-22c179499ca2",
   "metadata": {},
   "outputs": [
    {
     "name": "stdout",
     "output_type": "stream",
     "text": [
      "{'a': {'Age': 22, 'name': 'Anne'}, 'b': {'Age': 55, 'name': 'Luke'}}\n"
     ]
    }
   ],
   "source": [
    "import pprint\n",
    "pprint.pprint(my_dict)"
   ]
  }
 ],
 "metadata": {
  "kernelspec": {
   "display_name": "Python 3 (ipykernel)",
   "language": "python",
   "name": "python3"
  },
  "language_info": {
   "codemirror_mode": {
    "name": "ipython",
    "version": 3
   },
   "file_extension": ".py",
   "mimetype": "text/x-python",
   "name": "python",
   "nbconvert_exporter": "python",
   "pygments_lexer": "ipython3",
   "version": "3.12.4"
  }
 },
 "nbformat": 4,
 "nbformat_minor": 5
}
