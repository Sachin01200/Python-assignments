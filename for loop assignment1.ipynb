{
 "cells": [
  {
   "cell_type": "markdown",
   "id": "c13cfe3d-49b1-4867-8ee5-690f7145e003",
   "metadata": {},
   "source": [
    "Question 1: Write a Python program to print all the numbers from 1 to 10 using a for loop."
   ]
  },
  {
   "cell_type": "code",
   "execution_count": 6,
   "id": "a9a34734-731b-4544-bc5a-9a5b11ea9d45",
   "metadata": {},
   "outputs": [
    {
     "name": "stdout",
     "output_type": "stream",
     "text": [
      "1\n",
      "2\n",
      "3\n",
      "4\n",
      "5\n",
      "6\n",
      "7\n",
      "8\n",
      "9\n",
      "10\n"
     ]
    }
   ],
   "source": [
    "for item in range(1,11):\n",
    "    print(item)\n",
    "    "
   ]
  },
  {
   "cell_type": "markdown",
   "id": "6ee3fa1e-f569-41fd-9d91-7c96076e89d2",
   "metadata": {},
   "source": [
    "Question 2: Write a Python program to find the sum of all numbers from 1 to 100 using a for loop."
   ]
  },
  {
   "cell_type": "code",
   "execution_count": 1,
   "id": "8122cf03-62a9-4e19-b2d7-ee796a631b9d",
   "metadata": {},
   "outputs": [
    {
     "name": "stdout",
     "output_type": "stream",
     "text": [
      "5050\n"
     ]
    }
   ],
   "source": [
    "add = 0\n",
    "for item in range(1,101):\n",
    "    add = item+add\n",
    "    if(item==100):\n",
    "        print(add)"
   ]
  },
  {
   "cell_type": "markdown",
   "id": "8ec247a2-e969-4781-a4e4-b95e76aa91de",
   "metadata": {},
   "source": [
    "Question 3: Write a Python program to print the multiplication table of a given number using a \n",
    "for loop."
   ]
  },
  {
   "cell_type": "code",
   "execution_count": 61,
   "id": "a675998e-f982-49f7-ae53-903407955c86",
   "metadata": {},
   "outputs": [
    {
     "name": "stdin",
     "output_type": "stream",
     "text": [
      "enter your number 5\n"
     ]
    },
    {
     "name": "stdout",
     "output_type": "stream",
     "text": [
      "5 x 1 = 5\n",
      "5 x 2 = 10\n",
      "5 x 3 = 15\n",
      "5 x 4 = 20\n",
      "5 x 5 = 25\n",
      "5 x 6 = 30\n",
      "5 x 7 = 35\n",
      "5 x 8 = 40\n",
      "5 x 9 = 45\n",
      "5 x 10 = 50\n"
     ]
    }
   ],
   "source": [
    "num = int(input(\"enter your number\"))\n",
    "\n",
    "for item in range(1,11):\n",
    "    print(num,\"x\",item,\"=\",num*item) "
   ]
  },
  {
   "cell_type": "markdown",
   "id": "0cabd254-bbe9-4591-ba93-d5fab9346d0b",
   "metadata": {},
   "source": [
    "Question 4: Write a Python program to count the number of even and odd numbers from a\n",
    "            series of numbers using a for loop.\n",
    "            Hint: Find even and odd from this list: [1, 2, 3, 4, 5, 6, 7, 8, 9, 10]"
   ]
  },
  {
   "cell_type": "code",
   "execution_count": 67,
   "id": "8c66c282-db88-4661-842c-5f28b2e0be95",
   "metadata": {},
   "outputs": [
    {
     "name": "stdout",
     "output_type": "stream",
     "text": [
      "total even number 5\n",
      "total odd number 5\n"
     ]
    }
   ],
   "source": [
    "list1 = [1, 2, 3, 4, 5, 6, 7, 8, 9, 10]\n",
    "count1 = 0\n",
    "count2 = 0\n",
    "\n",
    "for item in list1:\n",
    "    if(item%2==0):\n",
    "        count1 +=1\n",
    "\n",
    "    else:\n",
    "        count2 +=1\n",
    "\n",
    "print(\"total even number\",count1)\n",
    "print(\"total odd number\", count2)\n",
    "        \n",
    "        \n",
    "     \n",
    "        \n",
    "        \n",
    "        "
   ]
  },
  {
   "cell_type": "markdown",
   "id": "0eb2e99c-1270-4cd5-9ddc-b651b8b9bacc",
   "metadata": {},
   "source": [
    "Question 5: Write a Python program to find the factorial of a number using a for loop."
   ]
  },
  {
   "cell_type": "code",
   "execution_count": 19,
   "id": "04f54767-253f-402e-9740-1180f80bf335",
   "metadata": {},
   "outputs": [
    {
     "name": "stdin",
     "output_type": "stream",
     "text": [
      "enter number 6\n"
     ]
    },
    {
     "name": "stdout",
     "output_type": "stream",
     "text": [
      "this is factorial of these number 720\n"
     ]
    }
   ],
   "source": [
    "num = int(input(\"enter number\"))\n",
    "factorial = 1\n",
    "\n",
    "if num<0:\n",
    "    print(\"it is not factorial number\")\n",
    "elif num==0:\n",
    "    print(\"this is factorial 0 is 1\")\n",
    "else:\n",
    "    for i in range(1,num+1):\n",
    "        factorial = factorial*i\n",
    "    print(\"this is factorial of these number\",factorial)"
   ]
  },
  {
   "cell_type": "markdown",
   "id": "0fb82e9e-3ba7-4175-a798-9132ba7224e0",
   "metadata": {},
   "source": [
    "Question 6: Write a Python program to print the Fibonacci sequence up to a specified number\r\n",
    "using a for loop."
   ]
  },
  {
   "cell_type": "code",
   "execution_count": 8,
   "id": "87a84a1a-ded6-4ea1-adf7-9105fbfe307f",
   "metadata": {},
   "outputs": [
    {
     "name": "stdin",
     "output_type": "stream",
     "text": [
      "enter the fibonacci sequence upto a specified number 7\n"
     ]
    },
    {
     "name": "stdout",
     "output_type": "stream",
     "text": [
      "fibonacci sequence 0 1 1 2 3 5 8 "
     ]
    }
   ],
   "source": [
    "num = int(input(\"enter the fibonacci sequence upto a specified number\"))\n",
    "a = 0\n",
    "b = 1\n",
    "c = 0\n",
    "print(\"fibonacci sequence\",a,b,end=\" \")\n",
    "\n",
    "for item in range(0,num-2):\n",
    "    c = a+b\n",
    "    a = b\n",
    "    b = c\n",
    "    print( c ,end=\" \")\n",
    "    "
   ]
  },
  {
   "cell_type": "markdown",
   "id": "3e979922-ff3c-495d-b102-013720cb44f6",
   "metadata": {},
   "source": [
    "Question 7: Write a Python program to check if a given number is prime or not using a for loop."
   ]
  },
  {
   "cell_type": "code",
   "execution_count": 139,
   "id": "02839b07-920c-4e44-96c7-768bf5461a2d",
   "metadata": {},
   "outputs": [
    {
     "name": "stdin",
     "output_type": "stream",
     "text": [
      "enter number 7\n"
     ]
    },
    {
     "name": "stdout",
     "output_type": "stream",
     "text": [
      "it is prime number\n"
     ]
    }
   ],
   "source": [
    "num = int(input(\"enter number\"))\n",
    "if num>1:\n",
    "    for item in range(2,num):\n",
    "        if(num%item)==0:\n",
    "            print(\"it is not prime number\")\n",
    "            \n",
    "            break\n",
    "    else:\n",
    "        print(\"it is prime number\")\n",
    "\n",
    "else:\n",
    "    print(\"it is prime number\")\n",
    "    \n",
    "\n",
    "    \n",
    "\n",
    "    \n",
    "       \n",
    "  "
   ]
  },
  {
   "cell_type": "code",
   "execution_count": 127,
   "id": "23884736-1779-4eee-9b06-40f8b01ca977",
   "metadata": {},
   "outputs": [
    {
     "data": {
      "text/plain": [
       "1"
      ]
     },
     "execution_count": 127,
     "metadata": {},
     "output_type": "execute_result"
    }
   ],
   "source": [
    "23%2"
   ]
  },
  {
   "cell_type": "markdown",
   "id": "d8730b48-3b41-41eb-8942-c8c9e170b90d",
   "metadata": {},
   "source": [
    "Question 8: Write a Python program to find the largest element in a list using a for loop."
   ]
  },
  {
   "cell_type": "code",
   "execution_count": 91,
   "id": "30b07e1e-6ba8-40ba-afb1-41f331a6fe63",
   "metadata": {},
   "outputs": [
    {
     "name": "stdin",
     "output_type": "stream",
     "text": [
      "please enter the total number of list element 6\n",
      "please enter the value the 1 element: 5244\n",
      "please enter the value the 2 element: 24\n",
      "please enter the value the 3 element: 35\n",
      "please enter the value the 4 element: 32\n",
      "please enter the value the 5 element: 24\n",
      "please enter the value the 6 element: 24\n"
     ]
    },
    {
     "name": "stdout",
     "output_type": "stream",
     "text": [
      "the largest element in this list 5244\n"
     ]
    }
   ],
   "source": [
    "list = []\n",
    "num = int(input(\"please enter the total number of list element\"))\n",
    "for item in range(1,num+1):\n",
    "    element = int(input(\"please enter the value the %d element:\"%item))\n",
    "    list.append(element)\n",
    "print(\"the largest element in this list\",max(list))"
   ]
  },
  {
   "cell_type": "markdown",
   "id": "58c4fa6c-4795-48d2-8ad2-57cf06cdf70f",
   "metadata": {},
   "source": [
    "Question 9: Write a Python program to reverse a given string using a for loop.\n"
   ]
  },
  {
   "cell_type": "code",
   "execution_count": 4,
   "id": "dae5746a-ccaa-412a-a384-dabf305c3159",
   "metadata": {},
   "outputs": [
    {
     "name": "stdout",
     "output_type": "stream",
     "text": [
      "nohtyp\n"
     ]
    }
   ],
   "source": [
    "string = \"python\"\n",
    "reversed_string = \"\"\n",
    "for char in string:\n",
    "    reversed_string = char + reversed_string\n",
    "\n",
    "print(reversed_string)\n",
    "\n",
    "\n"
   ]
  },
  {
   "cell_type": "markdown",
   "id": "4cae1c0c-d190-4873-918e-709af88e5cb4",
   "metadata": {},
   "source": [
    "Question 10: Write a Python program to find the common elements between two lists using a\r\n",
    "for loop.\r\n",
    "List1 = [1,2,3]\r\n",
    "List2 = [4,5,1]"
   ]
  },
  {
   "cell_type": "code",
   "execution_count": 34,
   "id": "3894de7e-361e-4ee2-83ea-d944b56000a0",
   "metadata": {},
   "outputs": [
    {
     "name": "stdout",
     "output_type": "stream",
     "text": [
      "the common element is 6\n"
     ]
    }
   ],
   "source": [
    "list1 = [4,5,6,8,9]\n",
    "list2 = [6,3,2,1,10]\n",
    "\n",
    "for a in list1:\n",
    "        if a in list2:\n",
    "            print(\"the common element is\",a)"
   ]
  }
 ],
 "metadata": {
  "kernelspec": {
   "display_name": "Python 3 (ipykernel)",
   "language": "python",
   "name": "python3"
  },
  "language_info": {
   "codemirror_mode": {
    "name": "ipython",
    "version": 3
   },
   "file_extension": ".py",
   "mimetype": "text/x-python",
   "name": "python",
   "nbconvert_exporter": "python",
   "pygments_lexer": "ipython3",
   "version": "3.12.4"
  }
 },
 "nbformat": 4,
 "nbformat_minor": 5
}
