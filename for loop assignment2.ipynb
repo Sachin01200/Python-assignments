{
 "cells": [
  {
   "cell_type": "markdown",
   "id": "74de2bc2-2edf-49a0-894d-f072cd26f4f4",
   "metadata": {},
   "source": [
    "You have a nested list as below:\n",
    "indian_employees = [[\"Raj\", \"Patel\"], [\"Priya\", \"Sharma\"],[\"Amit\", \"Kumar\"],[\"Neha\", \"Singh\"]]\n",
    "your have to create an email address for each employee.\n",
    "Email address should be there firstname+lastname@gmail.com\n",
    "\n",
    "Expected output:\n",
    "RajPatel@gmail.com\n",
    "PriyaSharma@gmail.com\n",
    "You have to create email addresses for each employee."
   ]
  },
  {
   "cell_type": "code",
   "execution_count": 23,
   "id": "8db3b68d-305f-4877-81cd-682b06066d2b",
   "metadata": {},
   "outputs": [
    {
     "name": "stdout",
     "output_type": "stream",
     "text": [
      "RajPatel@gmail.com\n",
      "PriyaSharma@gmail.com\n",
      "AmitKumar@gmail.com\n",
      "NehaSingh@gmail.com\n"
     ]
    }
   ],
   "source": [
    "indian_employees = [[\"Raj\", \"Patel\"], [\"Priya\", \"Sharma\"],[\"Amit\", \"Kumar\"],[\"Neha\", \"Singh\"]]\n",
    "\n",
    "for name, surname in indian_employees:\n",
    "    print(f\"{name}{surname}\"\"@gmail.com\")\n",
    "       \n",
    "        \n"
   ]
  }
 ],
 "metadata": {
  "kernelspec": {
   "display_name": "Python 3 (ipykernel)",
   "language": "python",
   "name": "python3"
  },
  "language_info": {
   "codemirror_mode": {
    "name": "ipython",
    "version": 3
   },
   "file_extension": ".py",
   "mimetype": "text/x-python",
   "name": "python",
   "nbconvert_exporter": "python",
   "pygments_lexer": "ipython3",
   "version": "3.12.4"
  }
 },
 "nbformat": 4,
 "nbformat_minor": 5
}
