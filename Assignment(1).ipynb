{
 "cells": [
  {
   "cell_type": "markdown",
   "id": "15107873-78f9-4851-bd98-00e6bfc372b5",
   "metadata": {},
   "source": [
    "1. In the below elements which of them are values or an expression? eg:- values can be\r\n",
    "integer or string and expressions will be mathematical operators.\r\n",
    "'39;he'39;\r\n",
    "-87.8\r\n",
    "-\r\n",
    "/\r\n",
    "+\r\n",
    "6"
   ]
  },
  {
   "cell_type": "markdown",
   "id": "492e7820-5f80-467b-b5e1-2d461e2a4324",
   "metadata": {},
   "source": [
    "Answer \n",
    "       * = Expression\n",
    " 'hello' = Value\n",
    "  -87.8  = Value\n",
    "       - = Expression\n",
    "       / = Expression\n",
    "       + = Expression\n",
    "       6 = Value"
   ]
  },
  {
   "cell_type": "markdown",
   "id": "ee6c68a8-56fa-4f6b-9030-5c52ea1e91ae",
   "metadata": {},
   "source": [
    "2. What is the difference between string and variable?"
   ]
  },
  {
   "cell_type": "markdown",
   "id": "f6328fac-9867-4862-a3bf-0196b35b018b",
   "metadata": {},
   "source": [
    "answer :\n",
    "        string = string is a data type and it is a sequence of characters\n",
    "      variable = it is a name of given memory location"
   ]
  },
  {
   "cell_type": "code",
   "execution_count": 7,
   "id": "c1d5e123-5648-4304-b49f-bb02e148cc36",
   "metadata": {},
   "outputs": [
    {
     "name": "stdout",
     "output_type": "stream",
     "text": [
      "<class 'str'>\n"
     ]
    }
   ],
   "source": [
    "# String\n",
    "my_name = \"Sachin\"\n",
    "print(type(my_name))"
   ]
  },
  {
   "cell_type": "code",
   "execution_count": 9,
   "id": "2c5ac28c-3678-474c-b4ba-f9c70f091e52",
   "metadata": {},
   "outputs": [
    {
     "name": "stdout",
     "output_type": "stream",
     "text": [
      "<class 'int'>\n"
     ]
    }
   ],
   "source": [
    "# Variable\n",
    "my_age = 22\n",
    "print(type(my_age))"
   ]
  },
  {
   "cell_type": "markdown",
   "id": "77b933dd-6ac2-4d26-8498-3043c2fa0c4e",
   "metadata": {},
   "source": [
    "3. Describe three different data types."
   ]
  },
  {
   "cell_type": "markdown",
   "id": "b5c036f4-bd7c-480f-a24f-1351710f2867",
   "metadata": {},
   "source": [
    "answer: \n",
    "       string = it is data type that have sequence characters examples \"hello\"\n",
    "       integer = it is whole number negative positive and zero also without decimal example 1,2,3,-3\n",
    "       boolean = the boolean data type either True or False"
   ]
  },
  {
   "cell_type": "code",
   "execution_count": 21,
   "id": "85ca85ac-9ff4-4138-a2b4-0fafe6e5d12e",
   "metadata": {},
   "outputs": [
    {
     "name": "stdout",
     "output_type": "stream",
     "text": [
      "<class 'str'>\n"
     ]
    }
   ],
   "source": [
    "# string data type\n",
    "my_name = \"Sachin\"\n",
    "print(type(my_name))\n"
   ]
  },
  {
   "cell_type": "code",
   "execution_count": 13,
   "id": "aac07860-5261-4f08-b2d6-ca742d7bb655",
   "metadata": {},
   "outputs": [
    {
     "name": "stdout",
     "output_type": "stream",
     "text": [
      "<class 'int'>\n"
     ]
    }
   ],
   "source": [
    "# integer data type \n",
    "value = 2001\n",
    "print(type(value))"
   ]
  },
  {
   "cell_type": "code",
   "execution_count": 15,
   "id": "81bd3eb2-9560-4c02-badd-c6f6343668a2",
   "metadata": {},
   "outputs": [
    {
     "name": "stdout",
     "output_type": "stream",
     "text": [
      "False\n",
      "True\n"
     ]
    }
   ],
   "source": [
    "# boolean data type \n",
    "print(15<14) \n",
    "print(10>9)"
   ]
  },
  {
   "cell_type": "markdown",
   "id": "3d6b55b2-1eeb-4eac-9790-70a72777f438",
   "metadata": {},
   "source": [
    "4. What is an expression made up of? What do all expressions do?"
   ]
  },
  {
   "cell_type": "code",
   "execution_count": 23,
   "id": "cecc67f9-e212-44d7-b171-fb454e2d5318",
   "metadata": {},
   "outputs": [
    {
     "name": "stdout",
     "output_type": "stream",
     "text": [
      "2500\n"
     ]
    }
   ],
   "source": [
    "# It is combination variables operators values and functions. It execute output through interpreter\n",
    "\n",
    "num = 50\n",
    "add = num * 50 # it is expression\n",
    "print(add)"
   ]
  },
  {
   "cell_type": "markdown",
   "id": "f7d5eb15-b219-49d4-a666-6df5377959ed",
   "metadata": {},
   "source": [
    "5. This assignment statements, like spam = 10. What is the difference between an\r\n",
    "expression and a statement?"
   ]
  },
  {
   "cell_type": "code",
   "execution_count": 25,
   "id": "5404f14b-f987-4052-a5cc-b1304454d2b2",
   "metadata": {},
   "outputs": [
    {
     "name": "stdout",
     "output_type": "stream",
     "text": [
      "2500\n"
     ]
    }
   ],
   "source": [
    "# variables is also known statement that store value \n",
    "\n",
    "num = 50 # statement\n",
    "add = num * 50   \n",
    "print(add)\n"
   ]
  },
  {
   "cell_type": "markdown",
   "id": "74dbbe2d-d2d5-492c-9608-2ca78dfdc9c7",
   "metadata": {},
   "source": [
    "6. After running the following code, what does the variable bacon contain?\n",
    "bacon = 22\n",
    "bacon + 1"
   ]
  },
  {
   "cell_type": "code",
   "execution_count": 27,
   "id": "6480fcf1-b72d-4ca7-9657-0befd06975ca",
   "metadata": {},
   "outputs": [
    {
     "data": {
      "text/plain": [
       "23"
      ]
     },
     "execution_count": 27,
     "metadata": {},
     "output_type": "execute_result"
    }
   ],
   "source": [
    "bacon = 22\n",
    "bacon + 1"
   ]
  },
  {
   "cell_type": "markdown",
   "id": "f0c920ae-f1d5-40c9-b01b-37e326114c2b",
   "metadata": {},
   "source": [
    "7. What should the values of the following two terms be?\n",
    "   'spam'+'spamspam'\n",
    "   'spam'*3"
   ]
  },
  {
   "cell_type": "code",
   "execution_count": 35,
   "id": "fcfed81f-4371-4751-983d-66ce42edcc03",
   "metadata": {},
   "outputs": [
    {
     "data": {
      "text/plain": [
       "'spamspamspam'"
      ]
     },
     "execution_count": 35,
     "metadata": {},
     "output_type": "execute_result"
    }
   ],
   "source": [
    "# answer: \n",
    "'spam'+'spamspam'"
   ]
  },
  {
   "cell_type": "code",
   "execution_count": 31,
   "id": "f36624d7-49fe-4eca-99aa-0e341b402be3",
   "metadata": {},
   "outputs": [
    {
     "data": {
      "text/plain": [
       "'spamspamspam'"
      ]
     },
     "execution_count": 31,
     "metadata": {},
     "output_type": "execute_result"
    }
   ],
   "source": [
    "'spam'*3"
   ]
  },
  {
   "cell_type": "markdown",
   "id": "1fd9725c-7972-401a-aaec-b00fe17926df",
   "metadata": {},
   "source": [
    "8. Why is eggs a valid variable name while 100 is invalid?"
   ]
  },
  {
   "cell_type": "markdown",
   "id": "c57c7d29-c2be-4970-b7bd-1a7f1bc63d6f",
   "metadata": {},
   "source": [
    "answer: \n",
    "       Variables can not contain numbers."
   ]
  },
  {
   "cell_type": "markdown",
   "id": "195d6f71-234a-47b1-a8b8-e0c12901ee36",
   "metadata": {},
   "source": [
    "9. What three functions can be used to get the integer, floating-point number, or string\n",
    "version of a value?"
   ]
  },
  {
   "cell_type": "markdown",
   "id": "dda918f1-8430-4d79-a8a0-ce989c1d9b9a",
   "metadata": {},
   "source": [
    "  integar = int()\n",
    "  string = str()\n",
    "  float = float()"
   ]
  },
  {
   "cell_type": "markdown",
   "id": "34b5feb7-776a-4dfe-9d13-5a93a00704b1",
   "metadata": {},
   "source": [
    "10. Why does this expression cause an error? How can you fix it?\n",
    "' i have eaten' + 99 + 'burritos'"
   ]
  },
  {
   "cell_type": "code",
   "execution_count": 47,
   "id": "3c274a7a-1cef-4012-afef-1e246534c5c9",
   "metadata": {},
   "outputs": [
    {
     "data": {
      "text/plain": [
       "' i have eaten 99 burritos'"
      ]
     },
     "execution_count": 47,
     "metadata": {},
     "output_type": "execute_result"
    }
   ],
   "source": [
    "' i have eaten' +  \" 99 \" + 'burritos'"
   ]
  }
 ],
 "metadata": {
  "kernelspec": {
   "display_name": "Python 3 (ipykernel)",
   "language": "python",
   "name": "python3"
  },
  "language_info": {
   "codemirror_mode": {
    "name": "ipython",
    "version": 3
   },
   "file_extension": ".py",
   "mimetype": "text/x-python",
   "name": "python",
   "nbconvert_exporter": "python",
   "pygments_lexer": "ipython3",
   "version": "3.12.4"
  }
 },
 "nbformat": 4,
 "nbformat_minor": 5
}
