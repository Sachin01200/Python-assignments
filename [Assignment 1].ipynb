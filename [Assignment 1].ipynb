{
 "cells": [
  {
   "cell_type": "markdown",
   "id": "422726cd-cb90-427c-8d31-7c8c4372a1f8",
   "metadata": {},
   "source": [
    "1. Write a Python program to print \"Hello Python\"?"
   ]
  },
  {
   "cell_type": "code",
   "execution_count": 1,
   "id": "3c50d6c6-5cf3-4a3d-a3b3-0ebcf114d2e0",
   "metadata": {},
   "outputs": [
    {
     "name": "stdout",
     "output_type": "stream",
     "text": [
      "Hello python\n"
     ]
    }
   ],
   "source": [
    "print(\"Hello python\")"
   ]
  },
  {
   "cell_type": "markdown",
   "id": "9f99e3a3-bfad-4a3f-8df8-b204110b2495",
   "metadata": {},
   "source": [
    "2. Write a Python program to do arithmetical operations addition and division?"
   ]
  },
  {
   "cell_type": "code",
   "execution_count": 5,
   "id": "8abf821f-f441-4770-9398-4724e2ebb78e",
   "metadata": {},
   "outputs": [
    {
     "name": "stdout",
     "output_type": "stream",
     "text": [
      "35\n",
      "2.5\n"
     ]
    }
   ],
   "source": [
    "a = 25\n",
    "b = 10\n",
    "print(a+b)  # Addition\n",
    "print(a/b)  # division"
   ]
  },
  {
   "cell_type": "code",
   "execution_count": null,
   "id": "ec856912-5286-487d-a998-a33bf6af154e",
   "metadata": {},
   "outputs": [],
   "source": [
    "3. Write a Python program to find the area of a triangle?"
   ]
  },
  {
   "cell_type": "code",
   "execution_count": 7,
   "id": "03b86add-724e-4206-8803-e02f23f390e6",
   "metadata": {},
   "outputs": [
    {
     "name": "stdout",
     "output_type": "stream",
     "text": [
      "area of triangle 300.0\n"
     ]
    }
   ],
   "source": [
    "height = 30\n",
    "base = 20\n",
    "\n",
    "# area of formula\n",
    "area = (1/2)*(base*height)\n",
    "\n",
    "print(\"area of triangle\",area)"
   ]
  },
  {
   "cell_type": "markdown",
   "id": "cf980e2d-de6e-4bc6-b5f7-a020a331cdab",
   "metadata": {},
   "source": [
    "4. Write a Python program to swap two variables?"
   ]
  },
  {
   "cell_type": "code",
   "execution_count": 23,
   "id": "a10b4fb7-a7df-42e5-a199-d181394e0396",
   "metadata": {},
   "outputs": [
    {
     "name": "stdin",
     "output_type": "stream",
     "text": [
      "enter value of x 40\n",
      "enter value of y 50\n"
     ]
    },
    {
     "name": "stdout",
     "output_type": "stream",
     "text": [
      "after swapping /n value of a x = 40, value of y = 50\n",
      "after swapping /n value of a x = 50, value of y = 40\n"
     ]
    }
   ],
   "source": [
    "x = int(input(\"enter value of x\"))\n",
    "y = int(input(\"enter value of y\"))\n",
    "\n",
    "print(f\"after swapping /n value of a x = {x}, value of y = {y}\")\n",
    "\n",
    "x = x+y \n",
    "y = x-y \n",
    "x = x-y \n",
    "\n",
    "print(f\"after swapping /n value of a x = {x}, value of y = {y}\")\n",
    "\n"
   ]
  },
  {
   "cell_type": "markdown",
   "id": "8bc9957b-11d5-4681-8892-f4b770a448d8",
   "metadata": {},
   "source": [
    "5. Write a Python program to generate a random number?"
   ]
  },
  {
   "cell_type": "code",
   "execution_count": 29,
   "id": "ea993510-4329-4c8d-acbd-4528b58219b8",
   "metadata": {},
   "outputs": [
    {
     "name": "stdout",
     "output_type": "stream",
     "text": [
      "30\n"
     ]
    }
   ],
   "source": [
    "# using built-in module\n",
    "import random\n",
    "\n",
    "# returns random integer between range.\n",
    "print(random.randint(1,100))"
   ]
  }
 ],
 "metadata": {
  "kernelspec": {
   "display_name": "Python 3 (ipykernel)",
   "language": "python",
   "name": "python3"
  },
  "language_info": {
   "codemirror_mode": {
    "name": "ipython",
    "version": 3
   },
   "file_extension": ".py",
   "mimetype": "text/x-python",
   "name": "python",
   "nbconvert_exporter": "python",
   "pygments_lexer": "ipython3",
   "version": "3.12.4"
  }
 },
 "nbformat": 4,
 "nbformat_minor": 5
}
